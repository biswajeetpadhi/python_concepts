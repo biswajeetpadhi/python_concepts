{
 "cells": [
  {
   "attachments": {},
   "cell_type": "markdown",
   "metadata": {},
   "source": [
    "#### Remove all occurrences of a character in a string | Recursive approach"
   ]
  },
  {
   "cell_type": "code",
   "execution_count": 1,
   "metadata": {},
   "outputs": [],
   "source": [
    "class Solution():\n",
    "    def remCharRecu(self, str, char):\n",
    "        if str == \"\":\n",
    "            return \"\"\n",
    "        if str[0] == char:\n",
    "            result = self.remCharRecu(str[1:], char)\n",
    "        else:\n",
    "            result = str[0] + self.remCharRecu(str[1:], char)\n",
    "        return result"
   ]
  },
  {
   "cell_type": "code",
   "execution_count": 2,
   "metadata": {},
   "outputs": [
    {
     "name": "stdout",
     "output_type": "stream",
     "text": [
      "gksforgks\n"
     ]
    }
   ],
   "source": [
    "str1 = \"geeksforgeeks\"\n",
    "char = \"e\"\n",
    "print(Solution().remCharRecu(str1, char))"
   ]
  },
  {
   "cell_type": "code",
   "execution_count": 2,
   "metadata": {},
   "outputs": [
    {
     "name": "stdout",
     "output_type": "stream",
     "text": [
      "permute([1, 2, 3])\n",
      "current_num: 1\n",
      "remaining_nums: [2, 3]\n",
      "permute([2, 3])\n",
      "current_num: 2\n",
      "remaining_nums: [3]\n",
      "permute([3])\n",
      "remaining_nums_permuted: [[3]]\n",
      "permuted_array: [2, 3]\n",
      "current_num: 3\n",
      "remaining_nums: [2]\n",
      "permute([2])\n",
      "remaining_nums_permuted: [[2]]\n",
      "permuted_array: [3, 2]\n",
      "result: [[2, 3], [3, 2]]\n",
      "remaining_nums_permuted: [[2, 3], [3, 2]]\n",
      "permuted_array: [1, 2, 3]\n",
      "permuted_array: [1, 3, 2]\n",
      "current_num: 2\n",
      "remaining_nums: [1, 3]\n",
      "permute([1, 3])\n",
      "current_num: 1\n",
      "remaining_nums: [3]\n",
      "permute([3])\n",
      "remaining_nums_permuted: [[3]]\n",
      "permuted_array: [1, 3]\n",
      "current_num: 3\n",
      "remaining_nums: [1]\n",
      "permute([1])\n",
      "remaining_nums_permuted: [[1]]\n",
      "permuted_array: [3, 1]\n",
      "result: [[1, 3], [3, 1]]\n",
      "remaining_nums_permuted: [[1, 3], [3, 1]]\n",
      "permuted_array: [2, 1, 3]\n",
      "permuted_array: [2, 3, 1]\n",
      "current_num: 3\n",
      "remaining_nums: [1, 2]\n",
      "permute([1, 2])\n",
      "current_num: 1\n",
      "remaining_nums: [2]\n",
      "permute([2])\n",
      "remaining_nums_permuted: [[2]]\n",
      "permuted_array: [1, 2]\n",
      "current_num: 2\n",
      "remaining_nums: [1]\n",
      "permute([1])\n",
      "remaining_nums_permuted: [[1]]\n",
      "permuted_array: [2, 1]\n",
      "result: [[1, 2], [2, 1]]\n",
      "remaining_nums_permuted: [[1, 2], [2, 1]]\n",
      "permuted_array: [3, 1, 2]\n",
      "permuted_array: [3, 2, 1]\n",
      "result: [[1, 2, 3], [1, 3, 2], [2, 1, 3], [2, 3, 1], [3, 1, 2], [3, 2, 1]]\n",
      "[[1, 2, 3], [1, 3, 2], [2, 1, 3], [2, 3, 1], [3, 1, 2], [3, 2, 1]]\n"
     ]
    }
   ],
   "source": [
    "class Solution():\n",
    "    def permute_num(self, nums):\n",
    "        result = []\n",
    "        print(f\"permute({nums})\")\n",
    "        \n",
    "        if len(nums) == 0:\n",
    "            return []\n",
    "        if len(nums) == 1:\n",
    "            return [nums]\n",
    "        \n",
    "        for i in range(len(nums)):\n",
    "            current_num = nums[i]\n",
    "            remaining_nums = nums[:i] + nums[i+1:]\n",
    "            print(f\"current_num: {current_num}\")\n",
    "            print(f\"remaining_nums: {remaining_nums}\")\n",
    "            \n",
    "            remaining_nums_permuted = self.permute_num(remaining_nums)\n",
    "            print(f\"remaining_nums_permuted: {remaining_nums_permuted}\")\n",
    "            \n",
    "            for j in range(len(remaining_nums_permuted)):\n",
    "                permuted_array = [current_num] + remaining_nums_permuted[j]\n",
    "                print(f\"permuted_array: {permuted_array}\")\n",
    "                result.append(permuted_array)\n",
    "                \n",
    "        print(f\"result: {result}\")      \n",
    "        return result\n",
    "\n",
    "nums1 = [1,2,3]\n",
    "print(Solution().permute_num(nums1))"
   ]
  },
  {
   "attachments": {},
   "cell_type": "markdown",
   "metadata": {},
   "source": []
  },
  {
   "attachments": {},
   "cell_type": "markdown",
   "metadata": {},
   "source": [
    "https://medium.com/weekly-webtips/step-by-step-guide-to-array-permutation-using-recursion-in-javascript-4e76188b88ff"
   ]
  },
  {
   "cell_type": "code",
   "execution_count": null,
   "metadata": {},
   "outputs": [],
   "source": [
    "class Solution():\n",
    "    def permute_string(self, s, answer):\n",
    "        if (len(s) == 0):\n",
    "            print(answer, end=\" \")\n",
    "            return\n",
    "\n",
    "        for i in range(len(s)):\n",
    "            ch = s[i]\n",
    "            left_substr = s[0:i]\n",
    "            right_substr = s[i + 1:]\n",
    "            rest = left_substr + right_substr\n",
    "            self.permute_string(rest, answer + ch)\n",
    "\n",
    "answer = \"\"\n",
    "s = \"ABC\"\n",
    "\n",
    "print(Solution().permute_string(s, answer))"
   ]
  },
  {
   "cell_type": "code",
   "execution_count": null,
   "metadata": {},
   "outputs": [],
   "source": [
    "    def permute(self,nums):\n",
    "        res = []\n",
    "        def backtrack(perm, remaining):\n",
    "            print(f\"perm: {perm}, remaining: {remaining}\")\n",
    "            if len(perm) == len(nums):\n",
    "                res.append(perm)\n",
    "            else:\n",
    "                for num in remaining:\n",
    "                    if num not in perm:\n",
    "                        new_perm = perm + [num]\n",
    "                        new_remaining = remaining - set([num])\n",
    "                        backtrack(new_perm, new_remaining)\n",
    "            print(f\"res: {res}\")\n",
    "\n",
    "        backtrack([], set(nums))\n",
    "        return res\n",
    "\n",
    "nums1 = [1,2,3]\n",
    "print(Solution().permute(nums1))    "
   ]
  },
  {
   "attachments": {},
   "cell_type": "markdown",
   "metadata": {},
   "source": [
    "#### power set"
   ]
  },
  {
   "cell_type": "code",
   "execution_count": 1,
   "metadata": {},
   "outputs": [
    {
     "name": "stdout",
     "output_type": "stream",
     "text": [
      "x: [[]]\n",
      "[[s[0]] + y for y in x]: [[3]]\n",
      "x: [[], [3]]\n",
      "[[s[0]] + y for y in x]: [[2], [2, 3]]\n",
      "x: [[], [3], [2], [2, 3]]\n",
      "[[s[0]] + y for y in x]: [[1], [1, 3], [1, 2], [1, 2, 3]]\n",
      "[[], [3], [2], [2, 3], [1], [1, 3], [1, 2], [1, 2, 3]]\n"
     ]
    }
   ],
   "source": [
    "class Solution():\n",
    "    def power_set(self,s):\n",
    "        if not s:\n",
    "            return [[]]\n",
    "        \n",
    "        x = self.power_set(s[1:])\n",
    "\n",
    "        print(\"x:\", x)\n",
    "        print(\"[[s[0]] + y for y in x]:\", [[s[0]] + y for y in x])\n",
    "        \n",
    "        return x + [[s[0]] + y for y in x]\n",
    "\n",
    "\n",
    "s = [1,2,3]\n",
    "\n",
    "print(Solution().power_set(s))"
   ]
  },
  {
   "attachments": {},
   "cell_type": "markdown",
   "metadata": {},
   "source": [
    "#### permutations of a string "
   ]
  },
  {
   "cell_type": "code",
   "execution_count": 2,
   "metadata": {},
   "outputs": [
    {
     "name": "stdout",
     "output_type": "stream",
     "text": [
      "cba\n",
      "bca\n",
      "bac\n",
      "cab\n",
      "acb\n",
      "abc\n",
      "None\n"
     ]
    }
   ],
   "source": [
    "class Solution():\n",
    "    def permutations(self,ans, str):\n",
    "        if not str:\n",
    "            print(ans)\n",
    "            return\n",
    "\n",
    "        ch = str[0]\n",
    "        for i in range(len(ans) + 1):\n",
    "            f = ans[:i]\n",
    "            s = ans[i:]\n",
    "            self.permutations(f + ch + s, str[1:])\n",
    "\n",
    "\n",
    "print(Solution().permutations(\"\", \"abc\"))"
   ]
  },
  {
   "attachments": {},
   "cell_type": "markdown",
   "metadata": {},
   "source": [
    "### power set of an string"
   ]
  },
  {
   "cell_type": "code",
   "execution_count": 10,
   "metadata": {},
   "outputs": [
    {
     "name": "stdout",
     "output_type": "stream",
     "text": [
      "abc\n",
      "ab\n",
      "ac\n",
      "a\n",
      "bc\n",
      "b\n",
      "c\n",
      "\n",
      "None\n"
     ]
    }
   ],
   "source": [
    "class Solution():\n",
    "    def subseq(self, ans, str):\n",
    "        if not str:\n",
    "            print(ans)\n",
    "            return\n",
    "        ch = str[0]\n",
    "        self.subseq(ans + ch, str[1:])\n",
    "        self.subseq(ans, str[1:])\n",
    "\n",
    "print(Solution().subseq(\"\", \"abc\"))\n"
   ]
  },
  {
   "attachments": {},
   "cell_type": "markdown",
   "metadata": {},
   "source": [
    "#### powder set of an array"
   ]
  },
  {
   "cell_type": "code",
   "execution_count": 4,
   "metadata": {},
   "outputs": [
    {
     "name": "stdout",
     "output_type": "stream",
     "text": [
      "[[], [1], [2], [1, 2], [3], [1, 3], [2, 3], [1, 2, 3]]\n"
     ]
    }
   ],
   "source": [
    "class Solution():\n",
    "    def subset(self,arr):\n",
    "        outer = [[]]\n",
    "        for num in arr:\n",
    "            n = len(outer)\n",
    "            for i in range(n):\n",
    "                internal = outer[i].copy()\n",
    "                internal.append(num)\n",
    "                outer.append(internal)\n",
    "        return outer\n",
    "\n",
    "\n",
    "print(Solution().subset([1,2,3]))"
   ]
  },
  {
   "attachments": {},
   "cell_type": "markdown",
   "metadata": {},
   "source": [
    "#### skip a character using recursion"
   ]
  },
  {
   "cell_type": "code",
   "execution_count": 5,
   "metadata": {},
   "outputs": [
    {
     "name": "stdout",
     "output_type": "stream",
     "text": [
      "bcdbcs\n",
      "None\n"
     ]
    }
   ],
   "source": [
    "class Solution():\n",
    "    def skip(self,p, up):\n",
    "        if not up:\n",
    "            print(p)\n",
    "            return\n",
    "        ch = up[0]\n",
    "        if ch == 'a':\n",
    "            self.skip(p, up[1:])\n",
    "        else:\n",
    "            self.skip(p + ch, up[1:])\n",
    "\n",
    "\n",
    "\n",
    "print(Solution().skip(\"\",\"abcdabcs\"))"
   ]
  },
  {
   "attachments": {},
   "cell_type": "markdown",
   "metadata": {},
   "source": [
    "#### skip a character in a string"
   ]
  },
  {
   "cell_type": "code",
   "execution_count": 8,
   "metadata": {},
   "outputs": [
    {
     "name": "stdout",
     "output_type": "stream",
     "text": [
      "bcdbcs\n"
     ]
    }
   ],
   "source": [
    "class Solution():\n",
    "    def skip(self,up):\n",
    "        if not up:\n",
    "            return \"\"\n",
    "        \n",
    "        ch = up[0]\n",
    "        \n",
    "        if ch == 'a':\n",
    "            return self.skip(up[1:])\n",
    "        else:\n",
    "            return ch + self.skip(up[1:])\n",
    "\n",
    "print(Solution().skip(\"abcdabcs\"))\n"
   ]
  },
  {
   "attachments": {},
   "cell_type": "markdown",
   "metadata": {},
   "source": [
    "#### skip a character in a string"
   ]
  },
  {
   "cell_type": "code",
   "execution_count": 9,
   "metadata": {},
   "outputs": [
    {
     "name": "stdout",
     "output_type": "stream",
     "text": [
      "Adding b\n",
      "Skipping a\n",
      "Adding c\n",
      "Adding c\n",
      "Skipping a\n",
      "Adding d\n",
      "bccd\n"
     ]
    }
   ],
   "source": [
    "class Solution():\n",
    "    def skip(self, ans, str):\n",
    "        if not str:\n",
    "            return ans\n",
    "       \n",
    "        if str[0] == \"a\":\n",
    "            print(f\"Skipping {str[0]}\")\n",
    "            ans = self.skip(ans,str[1:] )\n",
    "        else:\n",
    "            print(f\"Adding {str[0]}\")\n",
    "            ans = self.skip(ans+str[0], str[1:])\n",
    "        \n",
    "        return ans\n",
    "\n",
    "print(Solution().skip(\"\",\"baccad\"))\n"
   ]
  },
  {
   "attachments": {},
   "cell_type": "markdown",
   "metadata": {},
   "source": [
    "#### skip a character with out passing the answer empty str"
   ]
  },
  {
   "cell_type": "code",
   "execution_count": null,
   "metadata": {},
   "outputs": [],
   "source": [
    "class Solution():\n",
    "    def skip(self, str):\n",
    "        ans = \"\"\n",
    "        if not str:\n",
    "            return ans\n",
    "        \n",
    "        if str[0] == \"a\":\n",
    "            print(f\"Skipping {str[0]}\")\n",
    "            ans += self.skip(str[1:] )\n",
    "        else:\n",
    "            print(f\"Adding {str[0]}\")\n",
    "            ans += str[0] + self.skip(str[1:])\n",
    "            \n",
    "        return ans\n",
    "\n",
    "print(Solution().skip(\"baccad\"))\n"
   ]
  },
  {
   "attachments": {},
   "cell_type": "markdown",
   "metadata": {},
   "source": [
    "#### subsequence of a string return in an array"
   ]
  },
  {
   "cell_type": "code",
   "execution_count": 12,
   "metadata": {},
   "outputs": [
    {
     "name": "stdout",
     "output_type": "stream",
     "text": [
      "['abc', 'ab', 'ac', 'a', 'bc', 'b', 'c', '']\n"
     ]
    }
   ],
   "source": [
    "class Solution():\n",
    "    def subseqRet(self, ans, str):\n",
    "        if not str:\n",
    "            return [ans]\n",
    "\n",
    "        ch = str[0]\n",
    "        left = self.subseqRet(ans + ch, str[1:])\n",
    "        right = self.subseqRet(ans, str[1:])\n",
    "\n",
    "        result = left + right\n",
    "        #print(result)\n",
    "        return result\n",
    "\n",
    "print(Solution().subseqRet(\"\", \"abc\"))"
   ]
  },
  {
   "attachments": {},
   "cell_type": "markdown",
   "metadata": {},
   "source": [
    "#### permutations of a string"
   ]
  },
  {
   "cell_type": "code",
   "execution_count": 13,
   "metadata": {},
   "outputs": [
    {
     "name": "stdout",
     "output_type": "stream",
     "text": [
      "cba\n",
      "bca\n",
      "bac\n",
      "cab\n",
      "acb\n",
      "abc\n",
      "None\n"
     ]
    }
   ],
   "source": [
    "class Solution():\n",
    "    def permutations(self, ans, str):\n",
    "        if str == \"\":\n",
    "            print(ans)\n",
    "            return\n",
    "\n",
    "        ch = str[0]\n",
    "\n",
    "        for i in range(0, len(ans) + 1):\n",
    "            prefix = ans[0:i]\n",
    "            suffix = ans[i:len(ans)]\n",
    "            new = prefix + ch + suffix\n",
    "            self.permutations(new, str[1:])\n",
    "    \n",
    "result = Solution().permutations(\"\", \"abc\")\n",
    "print(result)"
   ]
  }
 ],
 "metadata": {
  "kernelspec": {
   "display_name": "python_14th-march-2022-0NJQoJ6G",
   "language": "python",
   "name": "python3"
  },
  "language_info": {
   "codemirror_mode": {
    "name": "ipython",
    "version": 3
   },
   "file_extension": ".py",
   "mimetype": "text/x-python",
   "name": "python",
   "nbconvert_exporter": "python",
   "pygments_lexer": "ipython3",
   "version": "3.10.11"
  },
  "orig_nbformat": 4
 },
 "nbformat": 4,
 "nbformat_minor": 2
}
