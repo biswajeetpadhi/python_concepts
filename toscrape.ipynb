{
 "cells": [
  {
   "cell_type": "code",
   "execution_count": null,
   "metadata": {},
   "outputs": [],
   "source": [
    "import requests\n",
    "from bs4 import BeautifulSoup"
   ]
  },
  {
   "cell_type": "code",
   "execution_count": null,
   "metadata": {},
   "outputs": [],
   "source": [
    "url = \"https://toscrape.com/\"\n",
    "response = requests.get(url)"
   ]
  },
  {
   "cell_type": "code",
   "execution_count": null,
   "metadata": {},
   "outputs": [],
   "source": [
    "soup = BeautifulSoup(response.content, \"html.parser\")\n"
   ]
  },
  {
   "cell_type": "code",
   "execution_count": null,
   "metadata": {},
   "outputs": [],
   "source": [
    "table = soup.find_all(\"table\")"
   ]
  },
  {
   "cell_type": "code",
   "execution_count": null,
   "metadata": {},
   "outputs": [],
   "source": [
    "table[0]"
   ]
  },
  {
   "cell_type": "code",
   "execution_count": null,
   "metadata": {},
   "outputs": [],
   "source": [
    "table[1]"
   ]
  },
  {
   "cell_type": "code",
   "execution_count": null,
   "metadata": {},
   "outputs": [],
   "source": [
    "required_table = table[1]"
   ]
  },
  {
   "cell_type": "code",
   "execution_count": null,
   "metadata": {},
   "outputs": [],
   "source": [
    "required_table"
   ]
  },
  {
   "cell_type": "code",
   "execution_count": null,
   "metadata": {},
   "outputs": [],
   "source": [
    "rows = required_table.find_all(\"tr\")"
   ]
  },
  {
   "cell_type": "code",
   "execution_count": null,
   "metadata": {},
   "outputs": [],
   "source": [
    "rows"
   ]
  },
  {
   "cell_type": "code",
   "execution_count": null,
   "metadata": {},
   "outputs": [],
   "source": [
    "for row in rows[1:]:\n",
    "    endpoint = row.td.a[\"href\"]\n",
    "    print(endpoint)"
   ]
  },
  {
   "cell_type": "code",
   "execution_count": null,
   "metadata": {},
   "outputs": [],
   "source": [
    "for row in rows[1:]:\n",
    "    endpoint_text = row.td.a.text\n",
    "    print(endpoint_text)"
   ]
  },
  {
   "cell_type": "code",
   "execution_count": null,
   "metadata": {},
   "outputs": [],
   "source": [
    "for row in rows[1:]:\n",
    "    endpoint = row.td.a.text\n",
    "    description = row.td.find_next_sibling('td').text\n",
    "    print(endpoint + ': ' + description)"
   ]
  },
  {
   "cell_type": "code",
   "execution_count": null,
   "metadata": {},
   "outputs": [],
   "source": [
    "from bs4 import BeautifulSoup\n",
    "import requests\n",
    "import csv"
   ]
  },
  {
   "cell_type": "code",
   "execution_count": null,
   "metadata": {},
   "outputs": [],
   "source": [
    "url = \"http://quotes.toscrape.com/\"\n",
    "response = requests.get(url)"
   ]
  },
  {
   "cell_type": "code",
   "execution_count": null,
   "metadata": {},
   "outputs": [],
   "source": [
    "soup = BeautifulSoup(response.content, \"html.parser\")"
   ]
  },
  {
   "cell_type": "code",
   "execution_count": null,
   "metadata": {},
   "outputs": [],
   "source": [
    "soup"
   ]
  },
  {
   "cell_type": "code",
   "execution_count": null,
   "metadata": {},
   "outputs": [],
   "source": [
    "quotes = soup.find_all(\"div\", class_ = \"quote\")"
   ]
  },
  {
   "cell_type": "code",
   "execution_count": null,
   "metadata": {},
   "outputs": [],
   "source": [
    "quotes"
   ]
  },
  {
   "cell_type": "code",
   "execution_count": 24,
   "metadata": {},
   "outputs": [
    {
     "name": "stdout",
     "output_type": "stream",
     "text": [
      "[['The world as we have created it is a process of our thinking. It cannot be changed without changing our thinking.', 'Albert Einstein'], ['It is our choices, Harry, that show what we truly are, far more than our abilities.', 'J.K. Rowling'], ['There are only two ways to live your life. One is as though nothing is a miracle. The other is as though everything is a miracle.', 'Albert Einstein'], ['The person, be it gentleman or lady, who has not pleasure in a good novel, must be intolerably stupid.', 'Jane Austen'], [\"Imperfection is beauty, madness is genius and it's better to be absolutely ridiculous than absolutely boring.\", 'Marilyn Monroe'], ['Try not to become a man of success. Rather become a man of value.', 'Albert Einstein'], ['It is better to be hated for what you are than to be loved for what you are not.', 'André Gide'], [\"I have not failed. I've just found 10,000 ways that won't work.\", 'Thomas A. Edison'], [\"A woman is like a tea bag; you never know how strong it is until it's in hot water.\", 'Eleanor Roosevelt'], ['A day without sunshine is like, you know, night.', 'Steve Martin']]\n"
     ]
    }
   ],
   "source": [
    "data = []\n",
    "for quote in quotes:\n",
    "    text = quote.find(\"span\", class_ = \"text\").text.strip('“”')\n",
    "    author = quote.find(\"small\", class_ = \"author\").text\n",
    "    data.append([text, author])\n",
    "print(data)\n"
   ]
  },
  {
   "cell_type": "code",
   "execution_count": 25,
   "metadata": {},
   "outputs": [
    {
     "name": "stdout",
     "output_type": "stream",
     "text": [
      "[['The world as we have created it is a process of our thinking. It cannot be changed without changing our thinking.'\n",
      "  'Albert Einstein']\n",
      " ['It is our choices, Harry, that show what we truly are, far more than our abilities.'\n",
      "  'J.K. Rowling']\n",
      " ['There are only two ways to live your life. One is as though nothing is a miracle. The other is as though everything is a miracle.'\n",
      "  'Albert Einstein']\n",
      " ['The person, be it gentleman or lady, who has not pleasure in a good novel, must be intolerably stupid.'\n",
      "  'Jane Austen']\n",
      " [\"Imperfection is beauty, madness is genius and it's better to be absolutely ridiculous than absolutely boring.\"\n",
      "  'Marilyn Monroe']\n",
      " ['Try not to become a man of success. Rather become a man of value.'\n",
      "  'Albert Einstein']\n",
      " ['It is better to be hated for what you are than to be loved for what you are not.'\n",
      "  'André Gide']\n",
      " [\"I have not failed. I've just found 10,000 ways that won't work.\"\n",
      "  'Thomas A. Edison']\n",
      " [\"A woman is like a tea bag; you never know how strong it is until it's in hot water.\"\n",
      "  'Eleanor Roosevelt']\n",
      " ['A day without sunshine is like, you know, night.' 'Steve Martin']]\n"
     ]
    }
   ],
   "source": [
    "import numpy as np\n",
    "data = np.array(data)\n",
    "print(data)"
   ]
  },
  {
   "cell_type": "code",
   "execution_count": 22,
   "metadata": {},
   "outputs": [],
   "source": [
    "filename = 'quotes.csv'\n",
    "with open(filename, 'w', newline='', encoding='utf-8') as file:\n",
    "    writer = csv.writer(file)\n",
    "    writer.writerow(['Quote', 'Author'])\n",
    "    writer.writerows(data)\n"
   ]
  }
 ],
 "metadata": {
  "kernelspec": {
   "display_name": "pythonProject-NzVrMXGb",
   "language": "python",
   "name": "python3"
  },
  "language_info": {
   "codemirror_mode": {
    "name": "ipython",
    "version": 3
   },
   "file_extension": ".py",
   "mimetype": "text/x-python",
   "name": "python",
   "nbconvert_exporter": "python",
   "pygments_lexer": "ipython3",
   "version": "3.10.11"
  },
  "orig_nbformat": 4
 },
 "nbformat": 4,
 "nbformat_minor": 2
}
