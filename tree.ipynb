{
 "cells": [
  {
   "attachments": {},
   "cell_type": "markdown",
   "metadata": {},
   "source": [
    "# DFS preorder traversal"
   ]
  },
  {
   "cell_type": "code",
   "execution_count": 22,
   "metadata": {},
   "outputs": [
    {
     "name": "stdout",
     "output_type": "stream",
     "text": [
      "1\n",
      "2\n",
      "4\n",
      "5\n",
      "3\n",
      "None\n"
     ]
    }
   ],
   "source": [
    "class Node:\n",
    "    def __init__(self, val):\n",
    "        self.val = val\n",
    "        self.left = None\n",
    "        self.right = None\n",
    "\n",
    "def dfs_preorder(node):\n",
    "    if node is None:\n",
    "        return\n",
    "    print(node.val)\n",
    "    dfs_preorder(node.left)\n",
    "    dfs_preorder(node.right)\n",
    "\n",
    "# Example binary tree\n",
    "root = Node(1)\n",
    "root.left = Node(2)\n",
    "root.right = Node(3)\n",
    "root.left.left = Node(4)\n",
    "root.left.right = Node(5)\n",
    "\n",
    "# Sample tree\n",
    "#      1\n",
    "#     / \\\n",
    "#    2   3\n",
    "#   / \\   \n",
    "#  4   5   \n",
    "\n",
    "# DFS preorder traversal\n",
    "print(dfs_preorder(root))\n"
   ]
  },
  {
   "attachments": {},
   "cell_type": "markdown",
   "metadata": {},
   "source": [
    "# DFS post-order traversal"
   ]
  },
  {
   "cell_type": "code",
   "execution_count": 21,
   "metadata": {},
   "outputs": [
    {
     "name": "stdout",
     "output_type": "stream",
     "text": [
      "4\n",
      "5\n",
      "2\n",
      "3\n",
      "1\n",
      "None\n"
     ]
    }
   ],
   "source": [
    "class Node:\n",
    "    def __init__(self, val):\n",
    "        self.val = val\n",
    "        self.left = None\n",
    "        self.right = None\n",
    "\n",
    "def dfs_postorder(node):\n",
    "    if node is None:\n",
    "        return\n",
    "    dfs_postorder(node.left)\n",
    "    dfs_postorder(node.right)\n",
    "    print(node.val)\n",
    "\n",
    "# Example binary tree\n",
    "root = Node(1)\n",
    "root.left = Node(2)\n",
    "root.right = Node(3)\n",
    "root.left.left = Node(4)\n",
    "root.left.right = Node(5)\n",
    "\n",
    "# Sample tree\n",
    "#      1\n",
    "#     / \\\n",
    "#    2   3\n",
    "#   / \\   \n",
    "#  4   5   \n",
    "\n",
    "# DFS post-order traversal\n",
    "print(dfs_postorder(root))\n"
   ]
  },
  {
   "attachments": {},
   "cell_type": "markdown",
   "metadata": {},
   "source": [
    "# DFS in-order traversal"
   ]
  },
  {
   "cell_type": "code",
   "execution_count": 20,
   "metadata": {},
   "outputs": [
    {
     "name": "stdout",
     "output_type": "stream",
     "text": [
      "4\n",
      "2\n",
      "5\n",
      "1\n",
      "3\n",
      "None\n"
     ]
    }
   ],
   "source": [
    "class Node:\n",
    "    def __init__(self, val):\n",
    "        self.val = val\n",
    "        self.left = None\n",
    "        self.right = None\n",
    "\n",
    "def dfs_inorder(node):\n",
    "    if node is None:\n",
    "        return\n",
    "    dfs_inorder(node.left)\n",
    "    print(node.val)\n",
    "    dfs_inorder(node.right)\n",
    "\n",
    "# Example binary tree\n",
    "root = Node(1)\n",
    "root.left = Node(2)\n",
    "root.right = Node(3)\n",
    "root.left.left = Node(4)\n",
    "root.left.right = Node(5)\n",
    "\n",
    "# Sample tree\n",
    "#      1\n",
    "#     / \\\n",
    "#    2   3\n",
    "#   / \\   \n",
    "#  4   5   \n",
    "\n",
    "# DFS in-order traversal\n",
    "print(dfs_inorder(root))\n"
   ]
  },
  {
   "attachments": {},
   "cell_type": "markdown",
   "metadata": {},
   "source": [
    "# DFS reversed in-order Traversal "
   ]
  },
  {
   "cell_type": "code",
   "execution_count": 1,
   "metadata": {},
   "outputs": [
    {
     "name": "stdout",
     "output_type": "stream",
     "text": [
      "7\n",
      "6\n",
      "5\n",
      "4\n",
      "3\n",
      "2\n",
      "1\n",
      "None\n"
     ]
    }
   ],
   "source": [
    "\n",
    "class TreeNode:\n",
    "    def __init__(self, val=None, left=None, right=None):\n",
    "        self.val = val\n",
    "        self.left = left\n",
    "        self.right = right\n",
    "\n",
    "def reverse_inorder(root):\n",
    "    if root is None:\n",
    "        return\n",
    "    \n",
    "    # Visit the right subtree\n",
    "    reverse_inorder(root.right)\n",
    "    \n",
    "    # Visit the current node\n",
    "    print(root.val)\n",
    "    \n",
    "    # Visit the left subtree\n",
    "    reverse_inorder(root.left)\n",
    "\n",
    "\n",
    "\"\"\" \n",
    "        4\n",
    "      /   \\\n",
    "     2     6\n",
    "    / \\   / \\\n",
    "   1   3 5   7\n",
    "\n",
    "\"\"\"\n",
    "root = TreeNode(4)\n",
    "root.left = TreeNode(2)\n",
    "root.right = TreeNode(6)\n",
    "root.left.left = TreeNode(1)\n",
    "root.left.right = TreeNode(3)\n",
    "root.right.left = TreeNode(5)\n",
    "root.right.right = TreeNode(7)\n",
    "\n",
    "print(reverse_inorder(root))  # Output: [7, 6, 5, 4, 3, 2, 1]"
   ]
  },
  {
   "attachments": {},
   "cell_type": "markdown",
   "metadata": {},
   "source": [
    "# BFS in tree"
   ]
  },
  {
   "cell_type": "code",
   "execution_count": 15,
   "metadata": {},
   "outputs": [
    {
     "name": "stdout",
     "output_type": "stream",
     "text": [
      "1\n",
      "2\n",
      "3\n",
      "4\n",
      "5\n",
      "6\n",
      "None\n"
     ]
    }
   ],
   "source": [
    "class Node:\n",
    "    def __init__(self, value):\n",
    "        self.value = value\n",
    "        self.left = None\n",
    "        self.right = None\n",
    "\n",
    "def bfs(root):\n",
    "    queue = []\n",
    "    queue.append(root)\n",
    "    \n",
    "    while queue:\n",
    "        node = queue.pop(0)\n",
    "        print(node.value)\n",
    "        \n",
    "        if node.left:\n",
    "            queue.append(node.left)\n",
    "        if node.right:\n",
    "            queue.append(node.right)\n",
    "\n",
    "# Sample tree\n",
    "#      1\n",
    "#     / \\\n",
    "#    2   3\n",
    "#   / \\   \\\n",
    "#  4   5   6\n",
    "#\n",
    "\n",
    "\n",
    "root = Node(1)\n",
    "root.left = Node(2)\n",
    "root.right = Node(3)\n",
    "root.left.left = Node(4)\n",
    "root.left.right = Node(5)\n",
    "root.right.right = Node(6)\n",
    "\n",
    "print(bfs(root))\n"
   ]
  },
  {
   "attachments": {},
   "cell_type": "markdown",
   "metadata": {},
   "source": [
    "# BFS Level Order Binary Tree Traversal"
   ]
  },
  {
   "cell_type": "code",
   "execution_count": 13,
   "metadata": {},
   "outputs": [
    {
     "name": "stdout",
     "output_type": "stream",
     "text": [
      "[[1], [2, 3], [4, 5, 6]]\n"
     ]
    }
   ],
   "source": [
    "class Node:\n",
    "    def __init__(self, val=None):\n",
    "        self.val = val\n",
    "        self.left = None\n",
    "        self.right = None\n",
    "\n",
    "def levelOrderTraversal(root):\n",
    "    if root is None:\n",
    "        return []\n",
    "\n",
    "    queue = [root]\n",
    "    #print(queue)\n",
    "    result = []\n",
    "\n",
    "    while queue:\n",
    "        level = []\n",
    "        level_size = len(queue)\n",
    "        #print(level_size)\n",
    "        for i in range(level_size):\n",
    "            node = queue.pop(0)\n",
    "            #print(node.val)\n",
    "            level.append(node.val)\n",
    "            if node.left:\n",
    "                queue.append(node.left)\n",
    "            if node.right:\n",
    "                queue.append(node.right)\n",
    "        result.append(level)\n",
    "\n",
    "    return result\n",
    "\n",
    "# Sample tree\n",
    "#      1\n",
    "#     / \\\n",
    "#    2   3\n",
    "#   / \\   \\\n",
    "#  4   5   6\n",
    "#\n",
    "\n",
    "root = Node(1)\n",
    "root.left = Node(2)\n",
    "root.right = Node(3)\n",
    "root.left.left = Node(4)\n",
    "root.left.right = Node(5)\n",
    "root.right.right = Node(6)\n",
    "\n",
    "result = levelOrderTraversal(root)\n",
    "print(result)"
   ]
  },
  {
   "attachments": {},
   "cell_type": "markdown",
   "metadata": {},
   "source": [
    "##### 1379. Find a Corresponding Node of a Binary Tree in a Clone of That Tree"
   ]
  },
  {
   "cell_type": "code",
   "execution_count": 1,
   "metadata": {},
   "outputs": [
    {
     "name": "stdout",
     "output_type": "stream",
     "text": [
      "3\n"
     ]
    }
   ],
   "source": [
    "class TreeNode:\n",
    "    def __init__(self, x):\n",
    "        self.val = x\n",
    "        self.left = None\n",
    "        self.right = None\n",
    "\n",
    "class Solution:\n",
    "    def getTargetCopy(self, original: TreeNode, cloned: TreeNode, target: TreeNode) -> TreeNode:\n",
    "        \n",
    "        def bfs(org, cln):\n",
    "            o_queue = [org]\n",
    "            c_queue = [cln]\n",
    "\n",
    "            while o_queue:\n",
    "                o_node = o_queue.pop(0)\n",
    "                c_node = c_queue.pop(0)\n",
    "\n",
    "                if o_node:\n",
    "                    if o_node ==  target:\n",
    "                        yield c_node\n",
    "\n",
    "                    o_queue.append(o_node.left)\n",
    "                    o_queue.append(o_node.right)\n",
    "\n",
    "                    c_queue.append(c_node.left)\n",
    "                    c_queue.append(c_node.right)\n",
    "\n",
    "        return next(bfs(original, cloned))\n",
    "    \n",
    "\n",
    "# Example usage:\n",
    "# Construct the original and cloned trees\n",
    "#       7                7\n",
    "#      / \\              / \\\n",
    "#     4   3   =>       4   3\n",
    "#        / \\              / \\\n",
    "#       6  19            6  19\n",
    "\n",
    "original = TreeNode(7)\n",
    "original.left = TreeNode(4)\n",
    "original.right = TreeNode(3)\n",
    "original.right.left = TreeNode(6)\n",
    "original.right.right = TreeNode(19)\n",
    "\n",
    "cloned = TreeNode(7)\n",
    "cloned.left = TreeNode(4)\n",
    "cloned.right = TreeNode(3)\n",
    "cloned.right.left = TreeNode(6)\n",
    "cloned.right.right = TreeNode(19)\n",
    "\n",
    "# Find the cloned node corresponding to the target node in the original tree\n",
    "target = original.right\n",
    "cloned_target = Solution().getTargetCopy(original, cloned, target)\n",
    "\n",
    "# Verify that the cloned node is correct\n",
    "print(cloned_target.val)  \n",
    "\n",
    "# target = 3\n",
    "# output = 3 -> TreeNode\n"
   ]
  },
  {
   "attachments": {},
   "cell_type": "markdown",
   "metadata": {},
   "source": [
    "# 938. Range Sum of BST"
   ]
  },
  {
   "cell_type": "code",
   "execution_count": 9,
   "metadata": {},
   "outputs": [
    {
     "name": "stdout",
     "output_type": "stream",
     "text": [
      "10\n",
      "5\n",
      "15\n",
      "7\n",
      "\n",
      " 32\n"
     ]
    }
   ],
   "source": [
    "# Definition for a binary tree node.\n",
    "from typing import Optional\n",
    "class TreeNode:\n",
    "    def __init__(self, val=0, left=None, right=None):\n",
    "        self.val = val\n",
    "        self.left = left\n",
    "        self.right = right\n",
    "\n",
    "class Solution:\n",
    "    def rangeSumBST(self, root: Optional[TreeNode], low: int, high: int) -> int:\n",
    "        queue = [root]\n",
    "        sum = 0\n",
    "\n",
    "        while queue:\n",
    "            node = queue.pop(0)\n",
    "            if node:\n",
    "                print(node.val)\n",
    "                if node.val > low:\n",
    "                    queue.append(node.left)\n",
    "                if node.val < high:\n",
    "                    queue.append(node.right)\n",
    "                if low <= node.val <= high:\n",
    "                    sum += node.val\n",
    "        return sum\n",
    "    \n",
    "\"\"\"\n",
    "        10\n",
    "       /  \\\n",
    "      5    15\n",
    "     / \\    \\\n",
    "    3   7    18\n",
    "    \n",
    "\"\"\"\n",
    "root1 = TreeNode(10)\n",
    "root1.left = TreeNode(5)\n",
    "root1.right = TreeNode(15)\n",
    "root1.right.right = TreeNode(18)\n",
    "root1.left.left = TreeNode(3)\n",
    "root1.left.right = TreeNode(7)\n",
    "\n",
    "low1 = 7\n",
    "high1 = 15\n",
    "\n",
    "print(\"\\n\",Solution().rangeSumBST(root1, low1, high1))"
   ]
  },
  {
   "cell_type": "code",
   "execution_count": null,
   "metadata": {},
   "outputs": [],
   "source": []
  }
 ],
 "metadata": {
  "kernelspec": {
   "display_name": "python_14th-march-2022-0NJQoJ6G",
   "language": "python",
   "name": "python3"
  },
  "language_info": {
   "codemirror_mode": {
    "name": "ipython",
    "version": 3
   },
   "file_extension": ".py",
   "mimetype": "text/x-python",
   "name": "python",
   "nbconvert_exporter": "python",
   "pygments_lexer": "ipython3",
   "version": "3.10.11"
  },
  "orig_nbformat": 4
 },
 "nbformat": 4,
 "nbformat_minor": 2
}
