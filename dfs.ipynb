{
 "cells": [
  {
   "cell_type": "code",
   "execution_count": 2,
   "metadata": {},
   "outputs": [
    {
     "name": "stdout",
     "output_type": "stream",
     "text": [
      "{0, 1, 2, 3, 4}\n"
     ]
    }
   ],
   "source": [
    "class Solution(object):\n",
    "    def dfs_array(self, array, start, visited):\n",
    "        visited.add(start)\n",
    "        for neighbor in array[start]:\n",
    "            if neighbor not in visited:\n",
    "                self.dfs_array(array, neighbor, visited)\n",
    "        return visited\n",
    "\n",
    "array1 = [[1], [0, 2, 3], [1], [1, 4], [3]]\n",
    "visited = Solution().dfs_array(array1, 0, set())\n",
    "print(visited)"
   ]
  },
  {
   "cell_type": "code",
   "execution_count": 1,
   "metadata": {},
   "outputs": [
    {
     "name": "stdout",
     "output_type": "stream",
     "text": [
      "found\n"
     ]
    }
   ],
   "source": [
    "arr1 = [[1,2], [1,5], [1,1], [2,2]]\n",
    "\n",
    "if [1,2] in arr1:\n",
    "    print(\"found\")"
   ]
  },
  {
   "cell_type": "code",
   "execution_count": null,
   "metadata": {},
   "outputs": [],
   "source": []
  }
 ],
 "metadata": {
  "kernelspec": {
   "display_name": "python_14th-march-2022-0NJQoJ6G",
   "language": "python",
   "name": "python3"
  },
  "language_info": {
   "codemirror_mode": {
    "name": "ipython",
    "version": 3
   },
   "file_extension": ".py",
   "mimetype": "text/x-python",
   "name": "python",
   "nbconvert_exporter": "python",
   "pygments_lexer": "ipython3",
   "version": "3.10.11"
  },
  "orig_nbformat": 4
 },
 "nbformat": 4,
 "nbformat_minor": 2
}
