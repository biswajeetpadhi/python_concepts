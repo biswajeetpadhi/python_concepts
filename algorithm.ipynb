{
 "cells": [
  {
   "cell_type": "markdown",
   "metadata": {},
   "source": [
    "## Mergo sort"
   ]
  },
  {
   "cell_type": "code",
   "execution_count": 2,
   "metadata": {},
   "outputs": [
    {
     "name": "stdout",
     "output_type": "stream",
     "text": [
      "[1, 2, 3, 5, 6, 7, 8, 9]\n"
     ]
    }
   ],
   "source": [
    "class MergeSort:\n",
    "    @staticmethod\n",
    "    def sort(arr):\n",
    "        if len(arr) <= 1:\n",
    "            return arr\n",
    "\n",
    "        mid = len(arr) // 2\n",
    "        left_subarray = arr[:mid]\n",
    "        right_subarray = arr[mid:]\n",
    "\n",
    "        left_subarray = MergeSort.sort(left_subarray)\n",
    "        right_subarray = MergeSort.sort(right_subarray)\n",
    "\n",
    "        return MergeSort.merge(left_subarray, right_subarray)\n",
    "\n",
    "    @staticmethod\n",
    "    def merge(left, right):\n",
    "        merged = []\n",
    "        i = j = 0\n",
    "\n",
    "        while i < len(left) and j < len(right):\n",
    "            if left[i] <= right[j]:\n",
    "                merged.append(left[i])\n",
    "                i += 1\n",
    "            else:\n",
    "                merged.append(right[j])\n",
    "                j += 1\n",
    "\n",
    "        # Copy any remaining elements from the unfinished subarray\n",
    "        merged.extend(left[i:])\n",
    "        merged.extend(right[j:])\n",
    "\n",
    "        return merged\n",
    "\n",
    "\n",
    "# Example usage:\n",
    "arr = [9, 5, 1, 8, 3, 2, 6, 7]\n",
    "sorted_arr = MergeSort.sort(arr)\n",
    "print(sorted_arr)\n"
   ]
  },
  {
   "cell_type": "markdown",
   "metadata": {},
   "source": [
    "## Hoare Partition algorithm"
   ]
  },
  {
   "cell_type": "markdown",
   "metadata": {},
   "source": [
    "## Lomuto Partition algorithm"
   ]
  },
  {
   "cell_type": "markdown",
   "metadata": {},
   "source": [
    "## Dutch Partitioning algorithm"
   ]
  },
  {
   "cell_type": "code",
   "execution_count": 1,
   "metadata": {},
   "outputs": [
    {
     "name": "stdout",
     "output_type": "stream",
     "text": [
      "[2, 3, 2, 1, 5, 5, 6, 9, 8]\n"
     ]
    }
   ],
   "source": [
    "# Dutch Partitioning algorithm\n",
    "from typing import *\n",
    "class Solution:\n",
    "    def dutchPartition(self, arr, pivot):\n",
    "        low = 0                 # Pointer for elements less than the pivot\n",
    "        mid = 0                 # Pointer for elements equal to the pivot\n",
    "        high = len(arr) - 1     # Pointer for elements greater than the pivot\n",
    "        \n",
    "        while mid <= high:\n",
    "            if arr[mid] < pivot:\n",
    "                arr[low], arr[mid] = arr[mid], arr[low]   # Swap element at low with element at mid\n",
    "                low += 1                                 # Increment low pointer\n",
    "                mid += 1                                 # Increment mid pointer\n",
    "            elif arr[mid] > pivot:\n",
    "                arr[mid], arr[high] = arr[high], arr[mid]  # Swap element at mid with element at high\n",
    "                high -= 1                                 # Decrement high pointer\n",
    "            else:\n",
    "                mid += 1                                  # Increment mid pointer as element is equal to pivot\n",
    "\n",
    "# Example usage:\n",
    "arr = [5, 2, 8, 9, 2, 1, 6, 3, 5]\n",
    "pivot = 5\n",
    "Solution().dutchPartition(arr, pivot)\n",
    "print(arr)\n",
    "\n"
   ]
  },
  {
   "attachments": {},
   "cell_type": "markdown",
   "metadata": {},
   "source": [
    "## Floyd's Tortoise and Hare Algorithm"
   ]
  },
  {
   "cell_type": "code",
   "execution_count": 1,
   "metadata": {},
   "outputs": [
    {
     "name": "stdout",
     "output_type": "stream",
     "text": [
      "Cycle starts at node with value: 1\n",
      "No cycle in the linked list.\n"
     ]
    }
   ],
   "source": [
    "class Node:\n",
    "    def __init__(self, val, next=None):\n",
    "        self.val = val\n",
    "        self.next = next\n",
    "\n",
    "class Solution:\n",
    "    def detectCycle(self, head: Node) -> Node:\n",
    "        # Initialize the slow and fast pointers\n",
    "        slow_pointer = head\n",
    "        fast_pointer = head\n",
    "        \n",
    "        # Move the slow pointer one step and the fast pointer two steps\n",
    "        while fast_pointer and fast_pointer.next:\n",
    "            slow_pointer = slow_pointer.next\n",
    "            fast_pointer = fast_pointer.next.next\n",
    "            \n",
    "            # If there's a cycle, the fast pointer will eventually catch up to the slow pointer\n",
    "            if slow_pointer == fast_pointer:\n",
    "                break\n",
    "        \n",
    "        # If there's no cycle, return None\n",
    "        if not fast_pointer or not fast_pointer.next:\n",
    "            return None\n",
    "        \n",
    "        # Move the slow pointer back to the head of the list\n",
    "        slow_pointer = head\n",
    "        \n",
    "        # Move the slow and fast pointers one step at a time until they meet at the start of the cycle\n",
    "        while slow_pointer != fast_pointer:\n",
    "            slow_pointer = slow_pointer.next\n",
    "            fast_pointer = fast_pointer.next\n",
    "        \n",
    "        # Return the node at which the cycle starts\n",
    "        return slow_pointer\n",
    "\n",
    "# Sample linked list with a cycle\n",
    "head = Node(1, Node(2, Node(3, Node(4))))\n",
    "head.next.next.next.next = head  # cycle starts at node with value 2\n",
    "\n",
    "# Sample linked list without a cycle\n",
    "head2 = Node(1, Node(2, Node(3, Node(4))))\n",
    "\n",
    "# Test the detectCycle function\n",
    "cycle_start = Solution().detectCycle(head)\n",
    "if cycle_start:\n",
    "    print(\"Cycle starts at node with value:\", cycle_start.val)\n",
    "else:\n",
    "    print(\"No cycle in the linked list.\")\n",
    "\n",
    "cycle_start2 = Solution().detectCycle(head2)\n",
    "if cycle_start2:\n",
    "    print(\"Cycle starts at node with value:\", cycle_start2.val)\n",
    "else:\n",
    "    print(\"No cycle in the linked list.\")\n"
   ]
  },
  {
   "cell_type": "code",
   "execution_count": null,
   "metadata": {},
   "outputs": [],
   "source": []
  }
 ],
 "metadata": {
  "kernelspec": {
   "display_name": "python_14th-march-2022-0NJQoJ6G",
   "language": "python",
   "name": "python3"
  },
  "language_info": {
   "codemirror_mode": {
    "name": "ipython",
    "version": 3
   },
   "file_extension": ".py",
   "mimetype": "text/x-python",
   "name": "python",
   "nbconvert_exporter": "python",
   "pygments_lexer": "ipython3",
   "version": "3.10.11"
  },
  "orig_nbformat": 4
 },
 "nbformat": 4,
 "nbformat_minor": 2
}
