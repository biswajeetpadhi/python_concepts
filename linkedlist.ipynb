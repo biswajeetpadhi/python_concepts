{
 "cells": [
  {
   "attachments": {},
   "cell_type": "markdown",
   "metadata": {},
   "source": [
    "https://leetcode.com/problems/add-two-numbers/solutions/1340/a-summary-about-how-to-solve-linked-list-problem-c/"
   ]
  },
  {
   "attachments": {},
   "cell_type": "markdown",
   "metadata": {},
   "source": [
    "## define linked list class with node class"
   ]
  },
  {
   "cell_type": "code",
   "execution_count": 8,
   "metadata": {},
   "outputs": [
    {
     "name": "stdout",
     "output_type": "stream",
     "text": [
      "1 2 3 4 "
     ]
    }
   ],
   "source": [
    "class Node():\n",
    "    def __init__(self, value):\n",
    "        self.val = value\n",
    "        self.next = None\n",
    "\n",
    "class LinkedList():\n",
    "    def __init__(self, ):\n",
    "        self.head = None\n",
    "\n",
    "    def add_node(self, value):\n",
    "        new_node = Node(value)\n",
    "\n",
    "        if self.head == None:\n",
    "            self.head = new_node\n",
    "\n",
    "        else:\n",
    "            current_node = self.head\n",
    "            while current_node.next is not None:\n",
    "                current_node = current_node.next\n",
    "            current_node.next = new_node\n",
    "    \n",
    "    def print_node(self):\n",
    "        current_node = self.head\n",
    "        while current_node is not None:\n",
    "            print(current_node.val, end = \" \")\n",
    "            current_node = current_node.next\n",
    "\n",
    "linklist1 = LinkedList()\n",
    "linklist1.add_node(1)\n",
    "linklist1.add_node(2)\n",
    "linklist1.add_node(3)\n",
    "linklist1.add_node(4)\n",
    "\n",
    "linklist1.print_node()\n"
   ]
  },
  {
   "attachments": {},
   "cell_type": "markdown",
   "metadata": {},
   "source": [
    "# Middle of a linked list"
   ]
  },
  {
   "cell_type": "code",
   "execution_count": 3,
   "metadata": {},
   "outputs": [
    {
     "name": "stdout",
     "output_type": "stream",
     "text": [
      "2 3\n",
      "3 5\n",
      "4\n",
      "[4, 5, 6]\n"
     ]
    }
   ],
   "source": [
    "# Middle of a linked list\n",
    "\n",
    "class ListNode:\n",
    "    def __init__(self, val=0, next=None):\n",
    "        self.val = val\n",
    "        self.next = next\n",
    "\n",
    "class Solution:\n",
    "    def middleNode(self, head):\n",
    "        slow = head\n",
    "        fast = head\n",
    "\n",
    "        while fast and fast.next:\n",
    "            slow = slow.next\n",
    "            fast = fast.next.next\n",
    "            if fast:\n",
    "                print(slow.val ,fast.val)\n",
    "            else:\n",
    "                print(slow.val)\n",
    "        return slow\n",
    "    \n",
    "    def printLlist(self, head):\n",
    "        arr = []\n",
    "        while head:\n",
    "            arr.append(head.val)\n",
    "            head = head.next\n",
    "\n",
    "        return arr\n",
    "\n",
    "# create a linked list from the input array\n",
    "head = ListNode(1)\n",
    "current = head\n",
    "for val in [2,3,4,5,6]:\n",
    "    current.next = ListNode(val)\n",
    "    current = current.next\n",
    "\n",
    "# create an object of the Solution class\n",
    "obj = Solution()\n",
    "\n",
    "# get the middle node of the linked list\n",
    "middle = obj.middleNode(head)\n",
    "\n",
    "# print the rest of the linked list starting from the middle node\n",
    "result = obj.printLlist(middle)\n",
    "print(result)\n"
   ]
  },
  {
   "attachments": {},
   "cell_type": "markdown",
   "metadata": {},
   "source": [
    "# Reverse Linked List"
   ]
  },
  {
   "cell_type": "code",
   "execution_count": 1,
   "metadata": {},
   "outputs": [
    {
     "name": "stdout",
     "output_type": "stream",
     "text": [
      "curr: 1 | prev: 1 | head: 2\n",
      "curr: 2 | prev: 2 | head: 3\n",
      "curr: 3 | prev: 3 | head: 4\n",
      "curr: 4 | prev: 4 | head: 5\n",
      "curr: 5 | prev: 5 | head: None\n",
      "[5, 4, 3, 2, 1]\n"
     ]
    }
   ],
   "source": [
    "# Reverse Linked List\n",
    "\n",
    "class ListNode:\n",
    "    def __init__(self, val=0, next=None):\n",
    "        self.val = val\n",
    "        self.next = next\n",
    "\n",
    "class Solution:\n",
    "    def reverseList(self, head):\n",
    "\n",
    "        prev = None\n",
    "        while head:\n",
    "\n",
    "            curr = head\n",
    "            head = head.next\n",
    "            \n",
    "            curr.next = prev\n",
    "            prev = curr\n",
    "            \n",
    "            # Print the values of curr, prev, and head in each iteration\n",
    "            print(f\"curr: {curr.val} | prev: {prev.val if prev else None} | head: {head.val if head else None}\")\n",
    "            \n",
    "        return prev\n",
    "    \"\"\"\n",
    "    def reverseList(head: ListNode) -> ListNode:\n",
    "        prev, curr, nxt = None, head, None\n",
    "        while curr:\n",
    "            print(f\"prev: {prev.val if prev else None}, curr: {curr.val}, nxt: {nxt.val if nxt else None}\")\n",
    "            nxt = curr.next\n",
    "            curr.next = prev\n",
    "            prev = curr\n",
    "            curr = nxt\n",
    "        print(f\"prev: {prev.val}\")\n",
    "        return prev\n",
    "    \"\"\"\n",
    "    \n",
    "    def printLlist(self, head):\n",
    "        arr = []\n",
    "        while head:\n",
    "            arr.append(head.val)\n",
    "            head = head.next\n",
    "\n",
    "        return arr\n",
    "\n",
    "# create a linked list from the input array\n",
    "head = ListNode(1)\n",
    "current = head\n",
    "for val in [2,3,4,5]:\n",
    "    current.next = ListNode(val)\n",
    "    current = current.next\n",
    "\n",
    "# create an object of the Solution class\n",
    "obj = Solution()\n",
    "\n",
    "# reverse the linked list using the reverseList method\n",
    "reverse = obj.reverseList(head)\n",
    "\n",
    "# print the reversed linked list\n",
    "result = obj.printLlist(reverse)\n",
    "print(result)\n",
    "\n"
   ]
  },
  {
   "attachments": {},
   "cell_type": "markdown",
   "metadata": {},
   "source": [
    "# Merge Two Sorted Lists"
   ]
  },
  {
   "cell_type": "code",
   "execution_count": 2,
   "metadata": {},
   "outputs": [
    {
     "name": "stdout",
     "output_type": "stream",
     "text": [
      "else 1 0\n",
      "if 1 3\n",
      "if 2 3\n",
      "else 4 3\n",
      "else 4 4\n",
      "[0, 1, 2, 3, 4, 4]\n"
     ]
    }
   ],
   "source": [
    "# Merge Two Sorted Lists\n",
    "\n",
    "# Define the ListNode class\n",
    "from typing import Optional\n",
    "class ListNode:\n",
    "    def __init__(self, val= 0, next=None):\n",
    "        self.val = val\n",
    "        self.next = next\n",
    "\n",
    "class Solution:\n",
    "    def mergeTwoLists(self, list1: Optional[ListNode], list2: Optional[ListNode]) -> Optional[ListNode]:\n",
    "\n",
    "        if not list1 or not list2:\n",
    "            return list1 or list2\n",
    "        if list1.val < list2.val:\n",
    "            print(f\"if\", list1.val, list2.val)\n",
    "            list1.next = self.mergeTwoLists(list1.next, list2)\n",
    "            return list1\n",
    "        else:\n",
    "            print(f\"else\", list1.val, list2.val)\n",
    "            list2.next = self.mergeTwoLists(list1, list2.next)\n",
    "        return list2\n",
    "\n",
    "\n",
    "# Create the input linked lists\n",
    "list1 = ListNode(1, ListNode(2, ListNode(4)))\n",
    "list2 = ListNode(0, ListNode(3, ListNode(4)))\n",
    "\n",
    "# Call the mergeTwoLists function\n",
    "merged_list = Solution().mergeTwoLists(list1, list2)\n",
    "\n",
    "# Print the result\n",
    "result = []\n",
    "while merged_list:\n",
    "    result.append(merged_list.val)\n",
    "    merged_list = merged_list.next\n",
    "print(result)\n",
    "# Input: list1 = [1,2,4], list2 = [1,3,4]\n",
    "# Output: [1,1,2,3,4,4]"
   ]
  },
  {
   "attachments": {},
   "cell_type": "markdown",
   "metadata": {},
   "source": [
    "# Merge Nodes in Between Zeros"
   ]
  },
  {
   "cell_type": "code",
   "execution_count": 2,
   "metadata": {},
   "outputs": [
    {
     "name": "stdout",
     "output_type": "stream",
     "text": [
      "[4, 11]\n"
     ]
    }
   ],
   "source": [
    "from typing import Optional\n",
    "\n",
    "# Definition for singly-linked list.\n",
    "class ListNode:\n",
    "    def __init__(self, val=0, next=None):\n",
    "        self.val = val\n",
    "        self.next = next\n",
    "\n",
    "class Solution:\n",
    "    def mergeNodes(self, head: Optional[ListNode]) -> Optional[ListNode]:\n",
    "        d=ListNode(0)\n",
    "        t=0\n",
    "        r=ListNode(0,d)\n",
    "        while head:\n",
    "            if head.val!=0:\n",
    "                t+=head.val\n",
    "            else:\n",
    "                #print(t)\n",
    "                if t!=0:\n",
    "                    #print(d.val, d.next)\n",
    "                    d.next=ListNode(t)\n",
    "                    d=d.next\n",
    "                    t=0\n",
    "                    #print(d.val, d.next)\n",
    "            head=head.next\n",
    "        return r.next.next\n",
    "    # make me understand the above code step by step  briefly\n",
    "    \n",
    "ll = ListNode(0)\n",
    "temp = ll\n",
    "for x in [3,1,0,4,5,2,0]:\n",
    "    temp.next = ListNode(x)\n",
    "    temp = temp.next\n",
    "\n",
    "obj = Solution()\n",
    "merge = obj.mergeNodes(ll)\n",
    "\n",
    "result = []\n",
    "while merge:\n",
    "    result.append(merge.val)\n",
    "    merge = merge.next \n",
    "print(result)\n"
   ]
  },
  {
   "cell_type": "code",
   "execution_count": 9,
   "metadata": {},
   "outputs": [
    {
     "name": "stdout",
     "output_type": "stream",
     "text": [
      "[0, 3, 1, 0, 4, 5, 2]\n"
     ]
    }
   ],
   "source": [
    "# Definition for singly-linked list.\n",
    "class ListNode:\n",
    "    def __init__(self, val=0, next=None):\n",
    "        self.val = val\n",
    "        self.next = next\n",
    "\n",
    "ll = ListNode(0)\n",
    "temp = ll\n",
    "for x in [3,1,0,4,5,2]:\n",
    "    temp.next = ListNode(x)\n",
    "    temp = temp.next\n",
    "        \n",
    "result = []\n",
    "while ll:\n",
    "    result.append(ll.val)\n",
    "    ll = ll.next \n",
    "print(result)\n"
   ]
  },
  {
   "attachments": {},
   "cell_type": "markdown",
   "metadata": {},
   "source": [
    "# stack implementation using linked list"
   ]
  },
  {
   "cell_type": "code",
   "execution_count": 1,
   "metadata": {},
   "outputs": [],
   "source": [
    "class Node:\n",
    "    def __init__(self, data):\n",
    "        self.data = data\n",
    "        self.next = None\n",
    "\n",
    "class Stack:\n",
    "    def __init__(self):\n",
    "        self.head = None\n",
    "        \n",
    "    def push(self, data):\n",
    "        new_node = Node(data)\n",
    "        new_node.next = self.head\n",
    "        self.head = new_node\n",
    "    \n",
    "    def pop(self):\n",
    "        if self.head is None:\n",
    "            return None\n",
    "        popped_node = self.head\n",
    "        self.head = self.head.next\n",
    "        popped_node.next = None\n",
    "        return popped_node.data\n"
   ]
  },
  {
   "attachments": {},
   "cell_type": "markdown",
   "metadata": {},
   "source": [
    "# Maximum Twin Sum of a Linked List"
   ]
  },
  {
   "cell_type": "code",
   "execution_count": 2,
   "metadata": {},
   "outputs": [
    {
     "name": "stdout",
     "output_type": "stream",
     "text": [
      "6\n"
     ]
    }
   ],
   "source": [
    "from typing import Optional\n",
    "\n",
    "# Definition for singly-linked list.\n",
    "class ListNode:\n",
    "    def __init__(self, val=0, next=None):\n",
    "        self.val = val\n",
    "        self.next = next\n",
    "\n",
    "class Solution:\n",
    "    def pairSum(self, head: Optional[ListNode]) -> int:\n",
    "        slow, fast = head, head\n",
    "        maxVal = 0\n",
    "\n",
    "        # Get middle of linked list\n",
    "        while fast and fast.next:\n",
    "            fast = fast.next.next\n",
    "            slow = slow.next\n",
    "\n",
    "        # Reverse second part of linked list\n",
    "        curr, prev = slow, None\n",
    "\n",
    "        while curr:       \n",
    "            curr.next, prev, curr = prev, curr, curr.next   \n",
    "\n",
    "        # Get max sum of pairs\n",
    "        while prev:\n",
    "            maxVal = max(maxVal, head.val + prev.val)\n",
    "            prev = prev.next\n",
    "            head = head.next\n",
    "\n",
    "        return maxVal\n",
    "    \n",
    "ll = ListNode(5)\n",
    "temp = ll\n",
    "for x in [4,2,1]:\n",
    "    temp.next = ListNode(x)\n",
    "    temp = temp.next\n",
    "\n",
    "obj = Solution()\n",
    "pair_sum = obj.pairSum(ll)\n",
    "print(pair_sum)\n",
    "\n"
   ]
  },
  {
   "attachments": {},
   "cell_type": "markdown",
   "metadata": {},
   "source": [
    "https://leetcode.com/problems/add-two-numbers/solutions/1340/a-summary-about-how-to-solve-linked-list-problem-c/"
   ]
  },
  {
   "attachments": {},
   "cell_type": "markdown",
   "metadata": {},
   "source": [
    "## 83. Remove Duplicates from Sorted List"
   ]
  },
  {
   "cell_type": "code",
   "execution_count": 4,
   "metadata": {},
   "outputs": [
    {
     "name": "stdout",
     "output_type": "stream",
     "text": [
      "current val: 1\n",
      "check_node val: 1\n",
      "current val: 1\n",
      "check_node val: 2\n",
      "next_node: 3\n",
      "current: 2\n",
      "previous_value: 2\n",
      "current val: 2\n",
      "check_node val: 3\n",
      "next_node: 3\n",
      "current: 3\n",
      "previous_value: 3\n",
      "current val: 3\n",
      "check_node val: 3\n",
      "final head: 1\n",
      "[1, 2, 3]\n"
     ]
    }
   ],
   "source": [
    "class ListNode:\n",
    "    def __init__(self, val=0, next=None):\n",
    "        self.val = val\n",
    "        self.next = next\n",
    "\n",
    "class Solution():\n",
    "    def deleteDuplicates(self, head):\n",
    "        if not head:\n",
    "            return None\n",
    "        \n",
    "        current = head\n",
    "        check_node = current.next\n",
    "        prev_val = current.val\n",
    "\n",
    "        while check_node:\n",
    "            print(\"current val:\", current.val)\n",
    "            print(\"check_node val:\", check_node.val)\n",
    "            if prev_val == check_node.val:\n",
    "                check_node = check_node.next\n",
    "            elif prev_val != check_node.val:\n",
    "                current.next = check_node\n",
    "                current = check_node\n",
    "                check_node = check_node.next\n",
    "                prev_val = current.val\n",
    "                if check_node:\n",
    "                    print(\"next_node:\", check_node.val)  # Debugging print statement\n",
    "                    print(\"current:\", current.val)  # Debugging print statement\n",
    "                    print(\"previous_value:\", prev_val)  # Debugging print statement\n",
    "\n",
    "        current.next = None\n",
    "        print(\"final head:\", head.val)  # Debugging print statement\n",
    "        return head       \n",
    "    \n",
    "    \n",
    "def printLinkedList(head):\n",
    "    if not head:\n",
    "        print(\"None\")\n",
    "        return\n",
    "    \n",
    "    output = []\n",
    "    curr = head\n",
    "    while curr:\n",
    "        output.append(curr.val)\n",
    "        curr = curr.next\n",
    "    print(output)\n",
    "    \n",
    "#head = ListNode(1, ListNode(1, ListNode(2)))\n",
    "head = ListNode(1, ListNode(1, ListNode(2, ListNode(3, ListNode(3)))))\n",
    "solution = Solution()\n",
    "output = solution.deleteDuplicates(head)\n",
    "printLinkedList(output)"
   ]
  },
  {
   "attachments": {},
   "cell_type": "markdown",
   "metadata": {},
   "source": [
    "##  Remove Duplicates from Sorted List II"
   ]
  },
  {
   "cell_type": "code",
   "execution_count": 6,
   "metadata": {},
   "outputs": [
    {
     "name": "stdout",
     "output_type": "stream",
     "text": [
      "Initial linked list:\n",
      "[1, 2, 3, 3, 4, 4, 5]\n",
      "No duplicates for 1\n",
      "No duplicates for 2\n",
      "Removing duplicates for 3\n",
      "Removing duplicates for 4\n",
      "No duplicates for 5\n",
      "Final linked list:\n",
      "[1, 2, 5]\n"
     ]
    },
    {
     "data": {
      "text/plain": [
       "<__main__.ListNode at 0x7f54f2f26560>"
      ]
     },
     "execution_count": 6,
     "metadata": {},
     "output_type": "execute_result"
    }
   ],
   "source": [
    "\n",
    "from typing import Optional\n",
    "class ListNode:\n",
    "    def __init__(self, val ,  next = None) -> None:\n",
    "        self.val = val\n",
    "        self.next = next\n",
    "\n",
    "class Solution:\n",
    "    def deleteDuplicates(self, head: Optional[ListNode]) -> Optional[ListNode]:\n",
    "        if not head:\n",
    "            return None\n",
    "\n",
    "        dummy_node = ListNode(0)\n",
    "        dummy_node.next = head\n",
    "\n",
    "        previous = dummy_node\n",
    "        current = head\n",
    "\n",
    "        print(\"Initial linked list:\")\n",
    "        self.print_llist(dummy_node.next)\n",
    "\n",
    "        while current:\n",
    "            while current.next and current.val == current.next.val:\n",
    "                current = current.next\n",
    "            \n",
    "            if previous.next == current:\n",
    "                print(f\"No duplicates for {current.val}\")\n",
    "                previous = previous.next\n",
    "            elif previous.next != current:\n",
    "                print(f\"Removing duplicates for {current.val}\")\n",
    "                previous.next = current.next\n",
    "\n",
    "            current = current.next\n",
    "\n",
    "        print(\"Final linked list:\")\n",
    "        self.print_llist(dummy_node.next)\n",
    "\n",
    "        return dummy_node.next\n",
    "\n",
    "    def print_llist(self, head):\n",
    "        if not head:\n",
    "            return None\n",
    "    \n",
    "        current = head\n",
    "        llist = []\n",
    "\n",
    "        while current:\n",
    "            llist.append(current.val)\n",
    "            current = current.next\n",
    "\n",
    "        print(llist)\n",
    "\n",
    "head1 = ListNode(1,ListNode(2, ListNode(3, ListNode(3, ListNode(4, ListNode(4, ListNode(5)))))))\n",
    "\n",
    "Solution().deleteDuplicates(head1)\n"
   ]
  },
  {
   "attachments": {},
   "cell_type": "markdown",
   "metadata": {},
   "source": [
    "## detect linked list cycle using hash set"
   ]
  },
  {
   "cell_type": "code",
   "execution_count": 2,
   "metadata": {},
   "outputs": [
    {
     "name": "stdout",
     "output_type": "stream",
     "text": [
      "Cycle starts at node with value: 1\n",
      "No cycle in the linked list.\n"
     ]
    }
   ],
   "source": [
    "class Node:\n",
    "    def __init__(self, val, next=None):\n",
    "        self.val = val\n",
    "        self.next = next\n",
    "\n",
    "class Solution:\n",
    "    def detectCycle(self, head: Node) -> Node:\n",
    "        # Initialize a hash set\n",
    "        visited = set()\n",
    "        \n",
    "        # Traverse the linked list\n",
    "        while head:\n",
    "            # If the current node is already visited, then a cycle exists\n",
    "            if head in visited: return head\n",
    "            \n",
    "            # Add the current node to the visited set\n",
    "            visited.add(head)\n",
    "            \n",
    "            # Move to the next node\n",
    "            head = head.next\n",
    "            \n",
    "        # If there's no cycle, return None\n",
    "        return None\n",
    "\n",
    "# Sample linked list with a cycle\n",
    "head = Node(1, Node(2, Node(3, Node(4))))\n",
    "head.next.next.next.next = head  # cycle starts at node with value 2\n",
    "\n",
    "# Sample linked list without a cycle\n",
    "head2 = Node(1, Node(2, Node(3, Node(4))))\n",
    "\n",
    "# Test the detectCycle function\n",
    "cycle_start = Solution().detectCycle(head)\n",
    "if cycle_start:print(\"Cycle starts at node with value:\", cycle_start.val)\n",
    "else:print(\"No cycle in the linked list.\")\n",
    "\n",
    "cycle_start2 = Solution().detectCycle(head2)\n",
    "if cycle_start2:print(\"Cycle starts at node with value:\", cycle_start2.val)\n",
    "else:print(\"No cycle in the linked list.\")\n"
   ]
  },
  {
   "attachments": {},
   "cell_type": "markdown",
   "metadata": {},
   "source": [
    "## 234. Palindrome Linked List"
   ]
  },
  {
   "cell_type": "code",
   "execution_count": 4,
   "metadata": {},
   "outputs": [
    {
     "name": "stdout",
     "output_type": "stream",
     "text": [
      "Is the linked list a palindrome? True\n"
     ]
    }
   ],
   "source": [
    "\n",
    "## 234. Palindrome Linked List\n",
    "\n",
    "class ListNode:\n",
    "    def __init__(self, val, next=None):\n",
    "        self.val = val\n",
    "        self.next = next\n",
    "\n",
    "class Solution:\n",
    "    def isPalindrome(self, head) -> bool:\n",
    "        slow = head\n",
    "        fast = head\n",
    "\n",
    "        while fast and fast.next:\n",
    "            slow = slow.next\n",
    "            fast = fast.next.next\n",
    "\n",
    "        def reverseList(head):\n",
    "            prev, curr, frwd = None, head, None\n",
    "\n",
    "            while curr:\n",
    "                frwd = curr.next\n",
    "                curr.next = prev\n",
    "                prev = curr\n",
    "                curr = frwd\n",
    "\n",
    "            return prev\n",
    "\n",
    "        slow = reverseList(slow)\n",
    "\n",
    "        while slow:\n",
    "            if slow.val != head.val:\n",
    "                return False\n",
    "            slow = slow.next\n",
    "            head = head.next\n",
    "\n",
    "        return True\n",
    "\n",
    "\n",
    "# Create a sample palindrome linked list: 1 -> 2 -> 3 -> 2 -> 1\n",
    "head = ListNode(1, ListNode(2, ListNode(3, ListNode(2, ListNode(1)))))\n",
    "\n",
    "# Test the isPalindrome function\n",
    "print(\"Is the linked list a palindrome?\", Solution().isPalindrome(head))\n"
   ]
  },
  {
   "attachments": {},
   "cell_type": "markdown",
   "metadata": {},
   "source": [
    "## 92. Reverse Linked List II"
   ]
  },
  {
   "cell_type": "code",
   "execution_count": 5,
   "metadata": {},
   "outputs": [
    {
     "name": "stdout",
     "output_type": "stream",
     "text": [
      "Initial state:\n",
      "1->2->3->4->5\n",
      "Reversing portion from position 2 to 4\n",
      "Iteration 1\n",
      "1->3->2->4->5\n",
      "Iteration 2\n",
      "1->4->3->2->5\n",
      "Final state:\n",
      "1->4->3->2->5\n",
      "Reversed Linked List:\n",
      "1->4->3->2->5\n"
     ]
    }
   ],
   "source": [
    "## 92. Reverse Linked List II\n",
    "\n",
    "class ListNode:\n",
    "    def __init__(self, val=0, next=None):\n",
    "        self.val = val\n",
    "        self.next = next\n",
    "\n",
    "class Solution(object):\n",
    "    def reverseBetween(self, head, left, right):\n",
    "        if not head or left == right: return head\n",
    "        \n",
    "        p = dummy = ListNode(None)\n",
    "        dummy.next = head\n",
    "        \n",
    "        rang = left - 1\n",
    "        for i in range(rang):\n",
    "            p = p.next\n",
    "        tail = p.next\n",
    "\n",
    "        print(\"Initial state:\")\n",
    "        self.printLinkedList(dummy.next)\n",
    "        print(\"Reversing portion from position\", left, \"to\", right)\n",
    "\n",
    "        for i in range(right-left):\n",
    "            tmp = p.next\n",
    "            p.next = tail.next\n",
    "            tail.next = tail.next.next\n",
    "            p.next.next = tmp\n",
    "\n",
    "            print(\"Iteration\", i+1)\n",
    "            self.printLinkedList(dummy.next)\n",
    "\n",
    "        print(\"Final state:\")\n",
    "        self.printLinkedList(dummy.next)\n",
    "\n",
    "        return dummy.next\n",
    "\n",
    "    def printLinkedList(self, head):\n",
    "        result = []\n",
    "        current = head\n",
    "        while current:\n",
    "            result.append(str(current.val))\n",
    "            current = current.next\n",
    "        print(\"->\".join(result))\n",
    "\n",
    "\n",
    "head = ListNode(1, ListNode(2, ListNode(3, ListNode(4, ListNode(5)))))\n",
    "left = 2\n",
    "right = 4\n",
    "\n",
    "solution = Solution()\n",
    "result = solution.reverseBetween(head, left, right)\n",
    "\n",
    "print(\"Reversed Linked List:\")\n",
    "solution.printLinkedList(result)\n"
   ]
  },
  {
   "attachments": {},
   "cell_type": "markdown",
   "metadata": {},
   "source": [
    "## 92. Reverse Linked List II"
   ]
  },
  {
   "cell_type": "code",
   "execution_count": 12,
   "metadata": {},
   "outputs": [
    {
     "name": "stdout",
     "output_type": "stream",
     "text": [
      "Reversed portion:\n",
      "4->3->2\n",
      "Reversed Linked List:\n",
      "1->4->3->2->5\n"
     ]
    }
   ],
   "source": [
    "class ListNode:\n",
    "    def __init__(self, val=0, next=None):\n",
    "        self.val = val\n",
    "        self.next = next\n",
    "\n",
    "class Solution:\n",
    "    def reverseBetween(self, head, left: int, right: int):\n",
    "        if not head or left == right: return head\n",
    "        dummy = ListNode(0, head)\n",
    "\n",
    "        # 1) Reach node at position \"left\"\n",
    "        leftPrev = dummy\n",
    "        cur = head \n",
    "\n",
    "        rang = left -1\n",
    "        for i in range(rang):\n",
    "            leftPrev = cur\n",
    "            cur = cur.next\n",
    "\n",
    "        # Now cur points to the node at position \"left\" and leftPrev points to the node before \"left\"\n",
    "\n",
    "        # 2) Reverse the linked list from \"left\" to \"right\"\n",
    "        prev = None\n",
    "        cur = cur\n",
    "        frwd = None  \n",
    "        \n",
    "        rang1 = right - left + 1\n",
    "        for i in range(rang1):\n",
    "            frwd = cur.next \n",
    "            cur.next = prev  \n",
    "            prev = cur\n",
    "            cur = frwd  \n",
    "\n",
    "        # After the loop, \"prev\" will point to the node at position \"right\"\n",
    "        # and \"cur\" will point to the node after \"right\"\n",
    "        print(\"Reversed portion:\")\n",
    "        self.printLinkedList(prev)\n",
    "        \n",
    "        # 3) Update pointers to connect the reversed portion\n",
    "        leftPrev.next.next = cur  # Connect the node after \"right\" to the rest of the list\n",
    "        leftPrev.next = prev  # Connect the node before \"left\" to the reversed portion\n",
    "\n",
    "        return dummy.next  # Return the modified linked list, excluding the dummy node\n",
    "\n",
    "    def printLinkedList(self, head: ListNode) -> None:\n",
    "        result = []\n",
    "        current = head\n",
    "        while current:\n",
    "            result.append(str(current.val))\n",
    "            current = current.next\n",
    "        print(\"->\".join(result))\n",
    "\n",
    "head = ListNode(1, ListNode(2, ListNode(3, ListNode(4, ListNode(5)))))\n",
    "left = 2\n",
    "right = 4\n",
    "\n",
    "solution = Solution()\n",
    "result = solution.reverseBetween(head, left, right)\n",
    "\n",
    "print(\"Reversed Linked List:\")\n",
    "solution.printLinkedList(result)"
   ]
  },
  {
   "cell_type": "code",
   "execution_count": 6,
   "metadata": {},
   "outputs": [
    {
     "name": "stdout",
     "output_type": "stream",
     "text": [
      "before 0\n",
      "after 1\n",
      "before 1\n",
      "after 2\n",
      "before 2\n",
      "after 3\n",
      "before 3\n",
      "after 4\n",
      "before 4\n",
      "after 5\n",
      "5\n"
     ]
    }
   ],
   "source": [
    "class ListNode:\n",
    "    def __init__(self, val=0, next=None):\n",
    "        self.val = val\n",
    "        self.next = next\n",
    "\n",
    "head = ListNode(1, ListNode(2, ListNode(3, ListNode(4, ListNode(5)))))\n",
    "dummy = ListNode(0, head)\n",
    "fast = dummy\n",
    "\n",
    "i = 0\n",
    "while fast.next:\n",
    "    print(\"before\", fast.val)\n",
    "    fast = fast.next\n",
    "    i += 1\n",
    "    print(\"after\", fast.val)\n",
    "print(i)"
   ]
  },
  {
   "attachments": {},
   "cell_type": "markdown",
   "metadata": {},
   "source": [
    "## 61. Rotate List"
   ]
  },
  {
   "cell_type": "code",
   "execution_count": 7,
   "metadata": {},
   "outputs": [
    {
     "name": "stdout",
     "output_type": "stream",
     "text": [
      "Before rotation:\n",
      "1 -> 2 -> 3 -> 4 -> 5 -> NULL\n",
      "After rotation:\n",
      "5 -> 1 -> 2 -> 3 -> 4 -> NULL\n",
      "\n",
      "Before rotation:\n",
      "5 -> 1 -> 2 -> 3 -> 4 -> NULL\n",
      "After rotation:\n",
      "4 -> 5 -> 1 -> 2 -> 3 -> NULL\n",
      "\n",
      "4 -> 5 -> 1 -> 2 -> 3 -> NULL\n"
     ]
    }
   ],
   "source": [
    "\n",
    "class ListNode:\n",
    "    def __init__(self, val=0, next=None):\n",
    "        self.val = val\n",
    "        self.next = next\n",
    "\n",
    "class Solution:\n",
    "    def rotateRight(self, head, k):\n",
    "        if not head or not head.next:\n",
    "            return head\n",
    "\n",
    "        for _ in range(k):\n",
    "            print(\"Before rotation:\")\n",
    "            self.printLinkedList(head)\n",
    "\n",
    "            prev = None\n",
    "            curr = head\n",
    "\n",
    "            # Traverse to the last node of the list\n",
    "            while curr.next:\n",
    "                prev = curr\n",
    "                curr = curr.next\n",
    "\n",
    "            # Move the last node to the front\n",
    "            curr.next = head\n",
    "            head = curr\n",
    "\n",
    "            # Update the new last node\n",
    "            prev.next = None\n",
    "\n",
    "            print(\"After rotation:\")\n",
    "            self.printLinkedList(head)\n",
    "            print()\n",
    "\n",
    "        return head\n",
    "\n",
    "    def printLinkedList(self, head):\n",
    "        curr = head\n",
    "        while curr:\n",
    "            print(curr.val, end=\" -> \")\n",
    "            curr = curr.next\n",
    "        print(\"NULL\")\n",
    "\n",
    "head = ListNode(1, ListNode(2, ListNode(3, ListNode(4, ListNode(5)))))\n",
    "k = 2\n",
    "solution = Solution()\n",
    "result = solution.rotateRight(head, k)\n",
    "solution.printLinkedList(result)\n"
   ]
  },
  {
   "cell_type": "code",
   "execution_count": 2,
   "metadata": {},
   "outputs": [
    {
     "data": {
      "text/plain": [
       "1"
      ]
     },
     "execution_count": 2,
     "metadata": {},
     "output_type": "execute_result"
    }
   ],
   "source": [
    "12 // 10"
   ]
  },
  {
   "cell_type": "markdown",
   "metadata": {},
   "source": [
    "Swap Nodes in Pairs using recursion"
   ]
  },
  {
   "cell_type": "code",
   "execution_count": 1,
   "metadata": {},
   "outputs": [
    {
     "name": "stdout",
     "output_type": "stream",
     "text": [
      "2 1 4 3 "
     ]
    }
   ],
   "source": [
    "# Swap Nodes in Pairs using recursion\n",
    "\n",
    "class ListNode:\n",
    "    def __init__(self, val=0, next=None):\n",
    "        self.val = val\n",
    "        self.next = next\n",
    "class Solution:\n",
    "    def swapPairs(self, head):\n",
    "        # Check if head exists and if there is at least one more node after it\n",
    "        if head and head.next:\n",
    "            # Store the reference to the second node\n",
    "            tmp = head.next\n",
    "            # Recursively call swapPairs on the remaining nodes after the second node\n",
    "            head.next = self.swapPairs(tmp.next)\n",
    "            # Make the second node point to the first node (swapping their positions)\n",
    "            tmp.next = head\n",
    "            # Return the new head of the swapped pairs (which is the second node)\n",
    "            return tmp\n",
    "        \n",
    "        # If there are no more pairs to swap, or if head is None, return head as is\n",
    "        return head\n",
    "\n",
    "head = ListNode(1, ListNode(2, ListNode(3, ListNode(4))))\n",
    "solution = Solution()\n",
    "result = solution.swapPairs(head)\n",
    "\n",
    "while result:\n",
    "    print(result.val, end=\" \")\n",
    "    result = result.next"
   ]
  },
  {
   "cell_type": "markdown",
   "metadata": {},
   "source": [
    "## Find middle node"
   ]
  },
  {
   "cell_type": "code",
   "execution_count": 1,
   "metadata": {},
   "outputs": [
    {
     "name": "stdout",
     "output_type": "stream",
     "text": [
      "3\n"
     ]
    }
   ],
   "source": [
    "## Find middle node\n",
    "\n",
    "class ListNode:\n",
    "    def __init__(self, val=0, next=None):\n",
    "        self.val = val\n",
    "        self.next = next\n",
    "\n",
    "\n",
    "def find_middle_node(head):\n",
    "    fast, slow = head, head\n",
    "    while fast and fast.next:\n",
    "        fast = fast.next.next\n",
    "        slow = slow.next\n",
    "    return slow\n",
    "\n",
    "\n",
    "# Example usage\n",
    "head = ListNode(1, ListNode(2, ListNode(3, ListNode(4, ListNode(5)))))\n",
    "middle_node = find_middle_node(head)\n",
    "print(middle_node.val)"
   ]
  },
  {
   "cell_type": "markdown",
   "metadata": {},
   "source": [
    "## Merge two linked list in a sorted manner "
   ]
  },
  {
   "cell_type": "code",
   "execution_count": 2,
   "metadata": {},
   "outputs": [
    {
     "name": "stdout",
     "output_type": "stream",
     "text": [
      "Merging: 1\n",
      "Merging: 2\n",
      "Merging: 3\n",
      "Merging: 4\n",
      "Merging: 5\n",
      "1 -> 2 -> 3 -> 4 -> 5 -> 6 -> "
     ]
    }
   ],
   "source": [
    "class ListNode:\n",
    "    def __init__(self, val=0, next=None):\n",
    "        self.val = val\n",
    "        self.next = next\n",
    "\n",
    "class Solution(object):\n",
    "    def merge(self, left, right):\n",
    "        # Base case: If either list is empty, return the other list\n",
    "        if not left or not right:\n",
    "            return left or right\n",
    "\n",
    "        # Create a dummy node and a current pointer to build the merged list\n",
    "        dummy = curr = ListNode(0)\n",
    "\n",
    "        # Merge the lists by comparing the values of the nodes\n",
    "        while left and right:\n",
    "            # Compare the values of the current nodes in both lists\n",
    "            if left.val < right.val:\n",
    "                # If the value in the left list is smaller, append it to the merged list\n",
    "                curr.next = left\n",
    "                left = left.next\n",
    "            else:\n",
    "                # If the value in the right list is smaller or equal, append it to the merged list\n",
    "                curr.next = right\n",
    "                right = right.next\n",
    "            # Move the current pointer forward in the merged list\n",
    "            curr = curr.next\n",
    "\n",
    "            # Print the current value being merged\n",
    "            print(\"Merging:\", curr.val)\n",
    "\n",
    "        # Append any remaining nodes from either list\n",
    "        curr.next = left or right\n",
    "\n",
    "        # Return the merged list\n",
    "        return dummy.next\n",
    "\n",
    "# Create two sorted linked lists: 1 -> 3 -> 5 and 2 -> 4 -> 6\n",
    "list1 = ListNode(1, ListNode(3, ListNode(5)))\n",
    "list2 = ListNode(2, ListNode(4, ListNode(6)))\n",
    "\n",
    "# Print the merged list\n",
    "current = Solution().merge(list1, list2)\n",
    "while current:\n",
    "    print(current.val, end=\" -> \")\n",
    "    current = current.next\n",
    "\n"
   ]
  },
  {
   "cell_type": "markdown",
   "metadata": {},
   "source": [
    "## Sort Linked List"
   ]
  },
  {
   "cell_type": "code",
   "execution_count": 3,
   "metadata": {},
   "outputs": [
    {
     "name": "stdout",
     "output_type": "stream",
     "text": [
      "Sorted list: [1, 2, 3, 4]\n"
     ]
    }
   ],
   "source": [
    "## Sort Linked List\n",
    "from typing import *\n",
    "class ListNode:\n",
    "    def __init__(self, val=0, next=None):\n",
    "        self.val = val\n",
    "        self.next = next\n",
    "\n",
    "class Solution:\n",
    "    def sortList(self, head: Optional[ListNode]) -> Optional[ListNode]:\n",
    "        if not head or not head.next:\n",
    "            return head\n",
    "\n",
    "        def merge(left, right):\n",
    "            dummy = ListNode(0)\n",
    "            curr = dummy\n",
    "\n",
    "            while left and right:\n",
    "                if left.val < right.val:\n",
    "                    curr.next = left\n",
    "                    left = left.next\n",
    "                else:\n",
    "                    curr.next = right\n",
    "                    right = right.next\n",
    "                curr = curr.next\n",
    "\n",
    "            if left:\n",
    "                curr.next = left\n",
    "            if right:\n",
    "                curr.next = right\n",
    "\n",
    "            return dummy.next\n",
    "\n",
    "        # Divide the list into two halves\n",
    "        slow, fast = head, head.next\n",
    "        while fast and fast.next:\n",
    "            slow = slow.next\n",
    "            fast = fast.next.next\n",
    "\n",
    "        right_head = slow.next\n",
    "        slow.next = None  # Splitting the list\n",
    "\n",
    "        left_sorted = self.sortList(head)\n",
    "        right_sorted = self.sortList(right_head)\n",
    "\n",
    "        return merge(left_sorted, right_sorted)\n",
    "\n",
    "# Create the linked list from the input\n",
    "head = ListNode(4, ListNode(2, ListNode(1, ListNode(3))))\n",
    "\n",
    "# Sort the linked list using the sortList method\n",
    "sorted_head = Solution().sortList(head)\n",
    "\n",
    "# Print the sorted linked list\n",
    "output = []\n",
    "while sorted_head:\n",
    "    output.append(sorted_head.val)\n",
    "    sorted_head = sorted_head.next\n",
    "\n",
    "print(\"Sorted list:\", output)\n"
   ]
  }
 ],
 "metadata": {
  "kernelspec": {
   "display_name": "python_14th-march-2022-0NJQoJ6G",
   "language": "python",
   "name": "python3"
  },
  "language_info": {
   "codemirror_mode": {
    "name": "ipython",
    "version": 3
   },
   "file_extension": ".py",
   "mimetype": "text/x-python",
   "name": "python",
   "nbconvert_exporter": "python",
   "pygments_lexer": "ipython3",
   "version": "3.10.11"
  },
  "orig_nbformat": 4
 },
 "nbformat": 4,
 "nbformat_minor": 2
}
