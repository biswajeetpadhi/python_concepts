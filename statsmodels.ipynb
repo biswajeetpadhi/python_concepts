{
 "cells": [
  {
   "attachments": {},
   "cell_type": "markdown",
   "metadata": {},
   "source": [
    "#### The Akaike Information Criterion (AIC) is a metric used in statistical modeling to compare different models and select the best one. It provides a trade-off between model fit and model complexity, aiming to find a balance between goodness-of-fit and simplicity."
   ]
  },
  {
   "attachments": {},
   "cell_type": "markdown",
   "metadata": {},
   "source": [
    "AIC = 2k - 2ln(L)"
   ]
  },
  {
   "cell_type": "code",
   "execution_count": 3,
   "metadata": {},
   "outputs": [
    {
     "name": "stdout",
     "output_type": "stream",
     "text": [
      "AIC: 28.900322309221025\n"
     ]
    }
   ],
   "source": [
    "import statsmodels.api as sm\n",
    "import numpy as np\n",
    "\n",
    "# Generate random data\n",
    "np.random.seed(1)\n",
    "X = np.random.rand(100, 2)\n",
    "y = np.random.rand(100)\n",
    "\n",
    "# Add constant column to the independent variables\n",
    "X = sm.add_constant(X)\n",
    "\n",
    "# Create your model using the statsmodels API\n",
    "model = sm.OLS(y, X)\n",
    "\n",
    "# Fit the model to your data\n",
    "result = model.fit()\n",
    "\n",
    "# Calculate the AIC\n",
    "aic = result.aic\n",
    "\n",
    "print(\"AIC:\", aic)\n"
   ]
  },
  {
   "cell_type": "code",
   "execution_count": null,
   "metadata": {},
   "outputs": [],
   "source": []
  }
 ],
 "metadata": {
  "kernelspec": {
   "display_name": "python_14th-march-2022-0NJQoJ6G",
   "language": "python",
   "name": "python3"
  },
  "language_info": {
   "codemirror_mode": {
    "name": "ipython",
    "version": 3
   },
   "file_extension": ".py",
   "mimetype": "text/x-python",
   "name": "python",
   "nbconvert_exporter": "python",
   "pygments_lexer": "ipython3",
   "version": "3.10.11"
  },
  "orig_nbformat": 4
 },
 "nbformat": 4,
 "nbformat_minor": 2
}
