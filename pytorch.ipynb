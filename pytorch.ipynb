{
 "cells": [
  {
   "cell_type": "code",
   "execution_count": 1,
   "metadata": {},
   "outputs": [],
   "source": [
    "import torch\n",
    "import torchvision"
   ]
  },
  {
   "cell_type": "markdown",
   "metadata": {},
   "source": [
    "create a tensor"
   ]
  },
  {
   "cell_type": "code",
   "execution_count": 13,
   "metadata": {},
   "outputs": [
    {
     "name": "stdout",
     "output_type": "stream",
     "text": [
      "tensor([1, 2, 3])\n"
     ]
    }
   ],
   "source": [
    "tensor1 = torch.tensor([1,2,3])\n",
    "zero_tensor = torch.zeros(2,3)\n",
    "rand_tensor = torch.rand(3,2)\n",
    "print(tensor1)"
   ]
  },
  {
   "cell_type": "code",
   "execution_count": 14,
   "metadata": {},
   "outputs": [
    {
     "name": "stdout",
     "output_type": "stream",
     "text": [
      "tensor(1)\n",
      "tensor(2)\n",
      "tensor(3)\n"
     ]
    }
   ],
   "source": [
    "for x in tensor1:\n",
    "    print(x)"
   ]
  },
  {
   "cell_type": "code",
   "execution_count": 15,
   "metadata": {},
   "outputs": [
    {
     "name": "stdout",
     "output_type": "stream",
     "text": [
      "tensor(0.)\n",
      "tensor(0.)\n",
      "tensor(0.)\n",
      "tensor(0.)\n"
     ]
    }
   ],
   "source": [
    "for i in range(len(zero_tensor)):\n",
    "    for j in range(len(zero_tensor)):\n",
    "        print(zero_tensor[i][j])"
   ]
  },
  {
   "cell_type": "markdown",
   "metadata": {},
   "source": [
    "convert numpty array to tensor"
   ]
  },
  {
   "cell_type": "code",
   "execution_count": 8,
   "metadata": {},
   "outputs": [
    {
     "name": "stdout",
     "output_type": "stream",
     "text": [
      "[[1 2 3]\n",
      " [4 5 6]]\n",
      "tensor([[1, 2, 3],\n",
      "        [4, 5, 6]], dtype=torch.int32)\n"
     ]
    }
   ],
   "source": [
    "import numpy as np\n",
    "\n",
    "ar1 = np.array([[1,2,3],[4,5,6]])\n",
    "print(ar1)\n",
    "\n",
    "tensor2 = torch.from_numpy(ar1)\n",
    "print(tensor2)"
   ]
  },
  {
   "cell_type": "code",
   "execution_count": 17,
   "metadata": {},
   "outputs": [],
   "source": [
    "import torch.nn as nn\n",
    "\n",
    "class MyNetwork(nn.Module):\n",
    "    def __init__(self):\n",
    "        super(MyNetwork, self).__init__()\n",
    "        self.fc = nn.Linear(10, 5)\n",
    "    \n",
    "    def forward(self, x):\n",
    "        x = self.fc(x)\n",
    "        return x\n"
   ]
  },
  {
   "cell_type": "code",
   "execution_count": 2,
   "metadata": {},
   "outputs": [
    {
     "name": "stdout",
     "output_type": "stream",
     "text": [
      "tensor([[0.1833, 0.4465]], grad_fn=<AddmmBackward0>)\n"
     ]
    }
   ],
   "source": [
    "import torch\n",
    "import torch.nn as nn\n",
    "\n",
    "# Define a custom neural network\n",
    "class MyNetwork(nn.Module):\n",
    "    def __init__(self):\n",
    "        super(MyNetwork, self).__init__()\n",
    "        \n",
    "        # Define the layers of the network\n",
    "        \n",
    "        # Fully connected layer: input size is 10, output size is 5\n",
    "        self.fc = nn.Linear(10, 5)\n",
    "        \n",
    "        # ReLU activation function\n",
    "        self.relu = nn.ReLU()\n",
    "        \n",
    "        # Fully connected layer: input size is 5, output size is 2\n",
    "        self.output = nn.Linear(5, 2)\n",
    "    \n",
    "    def forward(self, x):\n",
    "        # Define the forward pass of the network\n",
    "        \n",
    "        # Pass the input through the first linear layer and apply the linear transformation\n",
    "        x = self.fc(x)\n",
    "        \n",
    "        # Apply the ReLU activation function to introduce non-linearity\n",
    "        x = self.relu(x)\n",
    "        \n",
    "        # Pass the output of the ReLU activation through the second linear layer\n",
    "        # to obtain the final output of the network\n",
    "        x = self.output(x)\n",
    "        \n",
    "        # Return the output\n",
    "        return x\n",
    "\n",
    "\n",
    "# Create an instance of the network\n",
    "net = MyNetwork()\n",
    "\n",
    "# Create random input data\n",
    "input_data = torch.randn(1, 10)\n",
    "\n",
    "# Perform forward pass\n",
    "output = net(input_data)\n",
    "\n",
    "# Print the output\n",
    "print(output)\n",
    "\n",
    "# Define a loss function\n",
    "loss_function = nn.MSELoss()\n",
    "\n",
    "# Define a target\n",
    "target = torch.randn(1, 2)\n",
    "\n",
    "# Compute the loss\n",
    "loss = loss_function(output, target)\n",
    "\n",
    "# Perform backpropagation and update the weights\n",
    "optimizer = torch.optim.SGD(net.parameters(), lr=0.1)\n",
    "optimizer.zero_grad()\n",
    "loss.backward()\n",
    "optimizer.step()\n"
   ]
  },
  {
   "cell_type": "code",
   "execution_count": 2,
   "metadata": {},
   "outputs": [],
   "source": [
    "import os\n",
    "import torch\n",
    "from torch import nn\n",
    "from torch.utils.data import DataLoader\n",
    "from torchvision import datasets, transforms"
   ]
  },
  {
   "cell_type": "code",
   "execution_count": 3,
   "metadata": {},
   "outputs": [
    {
     "name": "stdout",
     "output_type": "stream",
     "text": [
      "Using cpu device\n"
     ]
    }
   ],
   "source": [
    "device = (\n",
    "    \"cuda\"\n",
    "    if torch.cuda.is_available()\n",
    "    else \"mps\"\n",
    "    if torch.backends.mps.is_available()\n",
    "    else \"cpu\"\n",
    ")\n",
    "print(f\"Using {device} device\")"
   ]
  }
 ],
 "metadata": {
  "kernelspec": {
   "display_name": "pythonProject-NzVrMXGb",
   "language": "python",
   "name": "python3"
  },
  "language_info": {
   "codemirror_mode": {
    "name": "ipython",
    "version": 3
   },
   "file_extension": ".py",
   "mimetype": "text/x-python",
   "name": "python",
   "nbconvert_exporter": "python",
   "pygments_lexer": "ipython3",
   "version": "3.10.11"
  },
  "orig_nbformat": 4
 },
 "nbformat": 4,
 "nbformat_minor": 2
}
