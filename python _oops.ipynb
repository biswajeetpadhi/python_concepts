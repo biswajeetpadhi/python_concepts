{
 "cells": [
  {
   "cell_type": "code",
   "execution_count": null,
   "metadata": {},
   "outputs": [],
   "source": [
    "class Subclass(Superclass):\n",
    "    def __init__(self, args):\n",
    "        super().__init__(args)  # Initialize superclass\n",
    "\n",
    "    def some_method(self):\n",
    "        super().some_method()  # Call superclass's method\n",
    "        # Additional logic specific to the subclass\n"
   ]
  },
  {
   "cell_type": "markdown",
   "metadata": {},
   "source": [
    "inheritance, method overidding, using super keyword to call the super class method, and modify the already defined function"
   ]
  },
  {
   "cell_type": "code",
   "execution_count": 2,
   "metadata": {},
   "outputs": [
    {
     "name": "stdout",
     "output_type": "stream",
     "text": [
      "Generic Animal makes a sound.\n",
      "I am Generic Animal, an animal.\n",
      "\n",
      "Buddy makes a sound.\n",
      "Buddy barks.\n",
      "I am Buddy, an animal.\n",
      "I am Buddy, a Labrador.\n"
     ]
    }
   ],
   "source": [
    "class Animal:\n",
    "    def __init__(self, name):\n",
    "        self.name = name\n",
    "\n",
    "    def speak(self):\n",
    "        print(f\"{self.name} makes a sound.\")\n",
    "\n",
    "    def show(self):\n",
    "        print(f\"I am {self.name}, an animal.\")\n",
    "\n",
    "class Dog(Animal):\n",
    "    def __init__(self, name, breed):\n",
    "        super(Dog, self).__init__(name)  # Call the superclass's __init__ method to initialize the name attribute\n",
    "        self.breed = breed\n",
    "\n",
    "    def speak(self):\n",
    "        super(Dog, self).speak()  # Call the superclass's speak method to print the animal sound\n",
    "        print(f\"{self.name} barks.\")\n",
    "\n",
    "    def show(self):\n",
    "        super(Dog, self).show()  # Call the superclass's show method to print the generic animal information\n",
    "        print(f\"I am {self.name}, a {self.breed}.\")\n",
    "\n",
    "# Creating instances of the classes\n",
    "animal = Animal(\"Generic Animal\")  # Create an instance of the Animal class\n",
    "dog = Dog(\"Buddy\", \"Labrador\")  # Create an instance of the Dog class\n",
    "\n",
    "# Calling the methods\n",
    "animal.speak()  # Call the speak method of the Animal class to print the animal sound\n",
    "animal.show()  # Call the show method of the Animal class to print the generic animal information\n",
    "print()\n",
    "dog.speak()  # Call the speak method of the Dog class to print the animal sound and barking\n",
    "dog.show()  # Call the show method of the Dog class to print the generic animal information and specific breed\n"
   ]
  },
  {
   "cell_type": "markdown",
   "metadata": {},
   "source": [
    "self keyword instead of using @staticmethod"
   ]
  },
  {
   "cell_type": "code",
   "execution_count": 1,
   "metadata": {},
   "outputs": [
    {
     "name": "stdout",
     "output_type": "stream",
     "text": [
      "[1, 2, 3, 5, 6, 7, 8, 9]\n"
     ]
    }
   ],
   "source": [
    "class MergeSort:\n",
    "    def sort(self, arr):\n",
    "        if len(arr) <= 1:\n",
    "            return arr\n",
    "\n",
    "        mid = len(arr) // 2\n",
    "        left_subarray = arr[:mid]\n",
    "        right_subarray = arr[mid:]\n",
    "\n",
    "        left_subarray = self.sort(left_subarray)\n",
    "        right_subarray = self.sort(right_subarray)\n",
    "\n",
    "        return self.merge(left_subarray, right_subarray)\n",
    "\n",
    "    def merge(self, left, right):\n",
    "        merged = []\n",
    "        i = j = 0\n",
    "\n",
    "        while i < len(left) and j < len(right):\n",
    "            if left[i] <= right[j]:\n",
    "                merged.append(left[i])\n",
    "                i += 1\n",
    "            else:\n",
    "                merged.append(right[j])\n",
    "                j += 1\n",
    "\n",
    "        # Copy any remaining elements from the unfinished subarray\n",
    "        merged.extend(left[i:])\n",
    "        merged.extend(right[j:])\n",
    "\n",
    "        return merged\n",
    "\n",
    "\n",
    "# Example usage:\n",
    "arr = [9, 5, 1, 8, 3, 2, 6, 7]\n",
    "ms = MergeSort()  # Create an instance of MergeSort\n",
    "sorted_arr = ms.sort(arr)  # Call the sort method using the instance\n",
    "print(sorted_arr)  # Print the sorted array\n"
   ]
  },
  {
   "cell_type": "markdown",
   "metadata": {},
   "source": [
    "@staticmethod decorator instead of self keyword"
   ]
  },
  {
   "cell_type": "code",
   "execution_count": 2,
   "metadata": {},
   "outputs": [
    {
     "name": "stdout",
     "output_type": "stream",
     "text": [
      "[1, 2, 3, 5, 6, 7, 8, 9]\n"
     ]
    }
   ],
   "source": [
    "\n",
    "class MergeSort:\n",
    "    @staticmethod\n",
    "    def sort(arr):\n",
    "        # Base case: If array length is 0 or 1, it is already sorted\n",
    "        if len(arr) <= 1:\n",
    "            return arr\n",
    "\n",
    "        mid = len(arr) // 2\n",
    "        left_subarray = arr[:mid]  # Divide the array into left subarray\n",
    "        right_subarray = arr[mid:]  # Divide the array into right subarray\n",
    "\n",
    "        # Recursively sort the left and right subarrays\n",
    "        left_subarray = MergeSort.sort(left_subarray)\n",
    "        right_subarray = MergeSort.sort(right_subarray)\n",
    "\n",
    "        # Merge the sorted left and right subarrays\n",
    "        return MergeSort.merge(left_subarray, right_subarray)\n",
    "\n",
    "    @staticmethod\n",
    "    def merge(left, right):\n",
    "        merged = []\n",
    "        i = j = 0\n",
    "\n",
    "        # Merge the left and right subarrays in sorted order\n",
    "        while i < len(left) and j < len(right):\n",
    "            if left[i] <= right[j]:\n",
    "                merged.append(left[i])\n",
    "                i += 1\n",
    "            else:\n",
    "                merged.append(right[j])\n",
    "                j += 1\n",
    "\n",
    "        # Copy any remaining elements from the unfinished subarray\n",
    "        merged.extend(left[i:])\n",
    "        merged.extend(right[j:])\n",
    "\n",
    "        return merged\n",
    "\n",
    "\n",
    "# Example usage:\n",
    "arr = [9, 5, 1, 8, 3, 2, 6, 7]\n",
    "sorted_arr = MergeSort.sort(arr)  # Sort the array using merge sort\n",
    "print(sorted_arr)  # Print the sorted array"
   ]
  }
 ],
 "metadata": {
  "kernelspec": {
   "display_name": "pythonProject-NzVrMXGb",
   "language": "python",
   "name": "python3"
  },
  "language_info": {
   "codemirror_mode": {
    "name": "ipython",
    "version": 3
   },
   "file_extension": ".py",
   "mimetype": "text/x-python",
   "name": "python",
   "nbconvert_exporter": "python",
   "pygments_lexer": "ipython3",
   "version": "3.10.11"
  },
  "orig_nbformat": 4
 },
 "nbformat": 4,
 "nbformat_minor": 2
}
