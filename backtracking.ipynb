{
 "cells": [
  {
   "cell_type": "code",
   "execution_count": 2,
   "metadata": {},
   "outputs": [],
   "source": [
    "from typing import *"
   ]
  },
  {
   "attachments": {},
   "cell_type": "markdown",
   "metadata": {},
   "source": [
    "https://leetcode.com/problems/letter-combinations-of-a-phone-number/solutions/780232/backtracking-python-problems-solutions-interview-prep/"
   ]
  },
  {
   "attachments": {},
   "cell_type": "markdown",
   "metadata": {},
   "source": [
    "https://leetcode.com/problems/permutations/solutions/18239/a-general-approach-to-backtracking-questions-in-java-subsets-permutations-combination-sum-palindrome-partioning/"
   ]
  },
  {
   "attachments": {},
   "cell_type": "markdown",
   "metadata": {},
   "source": [
    "## subsets"
   ]
  },
  {
   "cell_type": "code",
   "execution_count": 6,
   "metadata": {},
   "outputs": [
    {
     "name": "stdout",
     "output_type": "stream",
     "text": [
      "[[], [1], [1, 2], [1, 2, 3], [1, 3], [2], [2, 3], [3]]\n"
     ]
    }
   ],
   "source": [
    "class Solution:\n",
    "    def subsets(self, nums):\n",
    "        result = []\n",
    "\n",
    "        def dfs(nums, path, result):\n",
    "            result.append(path)\n",
    "            for i in range(len(nums)):\n",
    "                dfs(nums[i+1:], path + [nums[i]], result)\n",
    "\n",
    "        dfs(nums, [], result)\n",
    "        return result\n",
    "\n",
    "nums = [1,2,3]\n",
    "print(Solution().subsets(nums))"
   ]
  },
  {
   "attachments": {},
   "cell_type": "markdown",
   "metadata": {},
   "source": [
    "## subsets II"
   ]
  },
  {
   "cell_type": "code",
   "execution_count": 7,
   "metadata": {},
   "outputs": [
    {
     "name": "stdout",
     "output_type": "stream",
     "text": [
      "[[], [1], [1, 4], [1, 4, 4], [1, 4, 4, 4], [1, 4, 4, 4, 4], [4], [4, 4], [4, 4, 4], [4, 4, 4, 4]]\n"
     ]
    }
   ],
   "source": [
    "\n",
    "class Solution:\n",
    "    def subsetsWithDup(self, nums):\n",
    "        result = []\n",
    "        nums.sort()\n",
    "\n",
    "        def dfs(nums, path, result):\n",
    "            result.append(path)\n",
    "            for i in range(len(nums)):\n",
    "                if i > 0 and nums[i] == nums[i-1]:\n",
    "                    continue\n",
    "                dfs(nums[i+1:], path + [nums[i]], result)\n",
    "\n",
    "        dfs(nums, [], result)\n",
    "        return result\n",
    "\n",
    "nums = [4,4,4,1,4]\n",
    "print(Solution().subsetsWithDup(nums))"
   ]
  },
  {
   "attachments": {},
   "cell_type": "markdown",
   "metadata": {},
   "source": [
    "## permutation"
   ]
  },
  {
   "cell_type": "code",
   "execution_count": 8,
   "metadata": {},
   "outputs": [
    {
     "name": "stdout",
     "output_type": "stream",
     "text": [
      "[[1, 2, 3], [1, 3, 2], [2, 1, 3], [2, 3, 1], [3, 1, 2], [3, 2, 1]]\n"
     ]
    }
   ],
   "source": [
    "class Solution:\n",
    "    def permute(self, nums):\n",
    "        res = []\n",
    "        length = len(nums)\n",
    "        def dfs(nums, path, res):\n",
    "            if len(path) == length:\n",
    "                res.append(path)\n",
    "            for i in range(len(nums)):\n",
    "                dfs(nums[:i]+nums[i+1:], path+[nums[i]], res)\n",
    "\n",
    "        dfs(nums, [], res)\n",
    "        return res\n",
    "     \n",
    "nums = [1,2,3]\n",
    "print(Solution().permute(nums))"
   ]
  },
  {
   "attachments": {},
   "cell_type": "markdown",
   "metadata": {},
   "source": [
    "## permutations II"
   ]
  },
  {
   "cell_type": "code",
   "execution_count": 4,
   "metadata": {},
   "outputs": [
    {
     "name": "stdout",
     "output_type": "stream",
     "text": [
      "[[1, 2, 2], [2, 1, 2], [2, 2, 1]]\n"
     ]
    }
   ],
   "source": [
    "class Solution:\n",
    "    def permuteUnique(self, nums: List[int]) -> List[List[int]]:\n",
    "        result = []\n",
    "        nums = sorted(nums)\n",
    "        length = len(nums)\n",
    "        def dfs(nums, list, result):\n",
    "            if len(list) == length:\n",
    "                result.append(list)\n",
    "            for i in range(len(nums)):\n",
    "                if i > 0 and nums[i-1] == nums[i]:\n",
    "                    continue\n",
    "                dfs(nums[:i]+nums[i+1:], list+ [nums[i]], result)\n",
    "        dfs(nums, [], result)\n",
    "        return result\n",
    "\n",
    "nums = [1,2,2]\n",
    "print(Solution().permuteUnique(nums))"
   ]
  },
  {
   "attachments": {},
   "cell_type": "markdown",
   "metadata": {},
   "source": [
    "# 695. Max Area of Island"
   ]
  },
  {
   "cell_type": "code",
   "execution_count": 2,
   "metadata": {},
   "outputs": [
    {
     "name": "stdout",
     "output_type": "stream",
     "text": [
      "4\n"
     ]
    }
   ],
   "source": [
    "from typing import List\n",
    "\n",
    "class Solution:\n",
    "    def maxAreaOfIsland(self, grid: List[List[int]]) -> int:\n",
    "        m = len(grid)\n",
    "        n = len(grid[0])\n",
    "\n",
    "        def dfs(r, c, grid):\n",
    "            if r < 0 or c < 0 or r >= m or c >= n or grid[r][c] == 0:\n",
    "                return 0\n",
    "            else:\n",
    "                area  = 1\n",
    "                grid[r][c] = 0\n",
    "\n",
    "                area += dfs(r, c-1, grid)\n",
    "                area += dfs(r, c+1, grid)\n",
    "                area += dfs(r-1, c, grid)\n",
    "                area += dfs(r+1, c, grid)\n",
    "\n",
    "            return area\n",
    "\n",
    "        max_area = 0\n",
    "        for i in range(m):\n",
    "            for j in range(n):\n",
    "                cell = grid[i][j]\n",
    "                if cell == 1:\n",
    "                    max_area = max(max_area, dfs(i,j,grid))\n",
    "\n",
    "        return max_area\n",
    "\n",
    "grid1 = [[1, 1, 0, 0], [1, 1, 0, 0], [0, 0, 0, 0], [0, 0, 0, 0]]\n",
    "\n",
    "print(Solution().maxAreaOfIsland(grid1))"
   ]
  },
  {
   "cell_type": "code",
   "execution_count": null,
   "metadata": {},
   "outputs": [],
   "source": []
  },
  {
   "cell_type": "code",
   "execution_count": null,
   "metadata": {},
   "outputs": [],
   "source": []
  }
 ],
 "metadata": {
  "kernelspec": {
   "display_name": "python_14th-march-2022-0NJQoJ6G",
   "language": "python",
   "name": "python3"
  },
  "language_info": {
   "codemirror_mode": {
    "name": "ipython",
    "version": 3
   },
   "file_extension": ".py",
   "mimetype": "text/x-python",
   "name": "python",
   "nbconvert_exporter": "python",
   "pygments_lexer": "ipython3",
   "version": "3.10.11"
  },
  "orig_nbformat": 4
 },
 "nbformat": 4,
 "nbformat_minor": 2
}
