{
 "cells": [
  {
   "attachments": {},
   "cell_type": "markdown",
   "metadata": {},
   "source": [
    "\\ . matches any single character except for a newline. \\\n",
    "\\ * matches zero or more occurrences of the preceding character or character class. \\\n",
    " \\ + matches one or more occurrences of the preceding character or character class. \\\n",
    "\\ ? matches zero or one occurrence of the preceding character or character class. \\\n",
    "\\ ^ matches the start of a string. \\\n",
    "\\ $ matches the end of a string. \\\n",
    "\\ [] matches any single character within the brackets. \\\n",
    "\\ () creates a capture group. "
   ]
  },
  {
   "cell_type": "code",
   "execution_count": 9,
   "metadata": {},
   "outputs": [
    {
     "name": "stdout",
     "output_type": "stream",
     "text": [
      "sting matched\n"
     ]
    }
   ],
   "source": [
    "import re\n",
    "\n",
    "st1 = \"Hello_123@\"\n",
    "pattern = r\"^[a-zA-Z0-9_@]*$\"\n",
    "if re.match(pattern, st1):\n",
    "    print(\"sting matched\")\n",
    "else:\n",
    "    print(\"unmatched\")"
   ]
  },
  {
   "cell_type": "code",
   "execution_count": null,
   "metadata": {},
   "outputs": [],
   "source": []
  }
 ],
 "metadata": {
  "kernelspec": {
   "display_name": "python_14th-march-2022-0NJQoJ6G",
   "language": "python",
   "name": "python3"
  },
  "language_info": {
   "codemirror_mode": {
    "name": "ipython",
    "version": 3
   },
   "file_extension": ".py",
   "mimetype": "text/x-python",
   "name": "python",
   "nbconvert_exporter": "python",
   "pygments_lexer": "ipython3",
   "version": "3.10.11"
  },
  "orig_nbformat": 4
 },
 "nbformat": 4,
 "nbformat_minor": 2
}
